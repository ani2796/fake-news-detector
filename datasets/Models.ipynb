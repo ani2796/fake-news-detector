{
 "cells": [
  {
   "cell_type": "code",
   "execution_count": 2,
   "id": "c3c9b2b1",
   "metadata": {},
   "outputs": [],
   "source": [
    "import pandas as pd\n",
    "import nltk"
   ]
  },
  {
   "cell_type": "code",
   "execution_count": 3,
   "id": "bd679c8b",
   "metadata": {
    "scrolled": false
   },
   "outputs": [],
   "source": [
    "isot_dataset = pd.read_csv(\"./ISOT/combined.csv\", sep=\";\")"
   ]
  },
  {
   "cell_type": "code",
   "execution_count": 4,
   "id": "32490730",
   "metadata": {},
   "outputs": [
    {
     "data": {
      "text/html": [
       "<div>\n",
       "<style scoped>\n",
       "    .dataframe tbody tr th:only-of-type {\n",
       "        vertical-align: middle;\n",
       "    }\n",
       "\n",
       "    .dataframe tbody tr th {\n",
       "        vertical-align: top;\n",
       "    }\n",
       "\n",
       "    .dataframe thead th {\n",
       "        text-align: right;\n",
       "    }\n",
       "</style>\n",
       "<table border=\"1\" class=\"dataframe\">\n",
       "  <thead>\n",
       "    <tr style=\"text-align: right;\">\n",
       "      <th></th>\n",
       "      <th>subject</th>\n",
       "      <th>title</th>\n",
       "      <th>text</th>\n",
       "      <th>date</th>\n",
       "    </tr>\n",
       "  </thead>\n",
       "  <tbody>\n",
       "    <tr>\n",
       "      <th>0</th>\n",
       "      <td>politics</td>\n",
       "      <td>As U.S. budget fight looms, Republicans flip t...</td>\n",
       "      <td>WASHINGTON (Reuters) - The head of a conservat...</td>\n",
       "      <td>December 31, 2017</td>\n",
       "    </tr>\n",
       "    <tr>\n",
       "      <th>1</th>\n",
       "      <td>politics</td>\n",
       "      <td>U.S. military to accept transgender recruits o...</td>\n",
       "      <td>WASHINGTON (Reuters) - Transgender people will...</td>\n",
       "      <td>December 29, 2017</td>\n",
       "    </tr>\n",
       "    <tr>\n",
       "      <th>2</th>\n",
       "      <td>politics</td>\n",
       "      <td>Senior U.S. Republican senator: 'Let Mr. Muell...</td>\n",
       "      <td>WASHINGTON (Reuters) - The special counsel inv...</td>\n",
       "      <td>December 31, 2017</td>\n",
       "    </tr>\n",
       "    <tr>\n",
       "      <th>3</th>\n",
       "      <td>politics</td>\n",
       "      <td>FBI Russia probe helped by Australian diplomat...</td>\n",
       "      <td>WASHINGTON (Reuters) - Trump campaign adviser ...</td>\n",
       "      <td>December 30, 2017</td>\n",
       "    </tr>\n",
       "    <tr>\n",
       "      <th>4</th>\n",
       "      <td>politics</td>\n",
       "      <td>Trump wants Postal Service to charge 'much mor...</td>\n",
       "      <td>SEATTLE/WASHINGTON (Reuters) - President Donal...</td>\n",
       "      <td>December 29, 2017</td>\n",
       "    </tr>\n",
       "  </tbody>\n",
       "</table>\n",
       "</div>"
      ],
      "text/plain": [
       "    subject                                              title  \\\n",
       "0  politics  As U.S. budget fight looms, Republicans flip t...   \n",
       "1  politics  U.S. military to accept transgender recruits o...   \n",
       "2  politics  Senior U.S. Republican senator: 'Let Mr. Muell...   \n",
       "3  politics  FBI Russia probe helped by Australian diplomat...   \n",
       "4  politics  Trump wants Postal Service to charge 'much mor...   \n",
       "\n",
       "                                                text               date  \n",
       "0  WASHINGTON (Reuters) - The head of a conservat...  December 31, 2017  \n",
       "1  WASHINGTON (Reuters) - Transgender people will...  December 29, 2017  \n",
       "2  WASHINGTON (Reuters) - The special counsel inv...  December 31, 2017  \n",
       "3  WASHINGTON (Reuters) - Trump campaign adviser ...  December 30, 2017  \n",
       "4  SEATTLE/WASHINGTON (Reuters) - President Donal...  December 29, 2017  "
      ]
     },
     "execution_count": 4,
     "metadata": {},
     "output_type": "execute_result"
    }
   ],
   "source": [
    "isot_dataset.head()"
   ]
  },
  {
   "cell_type": "code",
   "execution_count": 5,
   "id": "d788d856",
   "metadata": {},
   "outputs": [
    {
     "name": "stderr",
     "output_type": "stream",
     "text": [
      "[nltk_data] Downloading package punkt to\n",
      "[nltk_data]     /Users/anirudhsriram/nltk_data...\n",
      "[nltk_data]   Package punkt is already up-to-date!\n",
      "[nltk_data] Downloading package wordnet to\n",
      "[nltk_data]     /Users/anirudhsriram/nltk_data...\n",
      "[nltk_data]   Package wordnet is already up-to-date!\n"
     ]
    },
    {
     "data": {
      "text/plain": [
       "True"
      ]
     },
     "execution_count": 5,
     "metadata": {},
     "output_type": "execute_result"
    }
   ],
   "source": [
    "nltk.download('punkt')\n",
    "nltk.download('wordnet')"
   ]
  },
  {
   "cell_type": "code",
   "execution_count": 6,
   "id": "b9dd981b",
   "metadata": {},
   "outputs": [],
   "source": [
    "isot_dataset['title_tokenized'] = isot_dataset.apply(lambda row: nltk.word_tokenize(row['title']), axis = 1)\n",
    "isot_dataset = isot_dataset.loc[~ isot_dataset['text'].isnull()]\n",
    "isot_dataset['text_tokenized'] = isot_dataset.apply(lambda row: nltk.word_tokenize(row['text']), axis = 1)"
   ]
  },
  {
   "cell_type": "code",
   "execution_count": 7,
   "id": "01505196",
   "metadata": {},
   "outputs": [],
   "source": [
    "isot_dataset['text_tokenized'] = isot_dataset.apply(lambda row: [word.lower() for word in row['text_tokenized']], axis = 1)\n",
    "isot_dataset['title_tokenized'] = isot_dataset.apply(lambda row: [word.lower() for word in row['title_tokenized']], axis = 1)"
   ]
  },
  {
   "cell_type": "code",
   "execution_count": 8,
   "id": "d3cd2b5d",
   "metadata": {},
   "outputs": [],
   "source": [
    "from nltk.stem import WordNetLemmatizer\n",
    "lemmatizer = WordNetLemmatizer()\n",
    "isot_dataset['text_tokenized'] = isot_dataset.apply(lambda row: [lemmatizer.lemmatize(word) for word in row['text_tokenized']], axis = 1)\n",
    "isot_dataset['title_tokenized'] = isot_dataset.apply(lambda row: [lemmatizer.lemmatize(word) for word in row['title_tokenized']], axis = 1)"
   ]
  },
  {
   "cell_type": "code",
   "execution_count": 9,
   "id": "28679b33",
   "metadata": {},
   "outputs": [
    {
     "data": {
      "text/plain": [
       "0    [a, u.s., budget, fight, loom, ,, republican, ...\n",
       "1    [u.s., military, to, accept, transgender, recr...\n",
       "2    [senior, u.s., republican, senator, :, 'let, m...\n",
       "3    [fbi, russia, probe, helped, by, australian, d...\n",
       "4    [trump, want, postal, service, to, charge, 'mu...\n",
       "Name: title_tokenized, dtype: object"
      ]
     },
     "execution_count": 9,
     "metadata": {},
     "output_type": "execute_result"
    }
   ],
   "source": [
    "isot_dataset['text_tokenized'].head()\n",
    "isot_dataset['title_tokenized'].head()"
   ]
  },
  {
   "cell_type": "code",
   "execution_count": 10,
   "id": "f5000ed2",
   "metadata": {},
   "outputs": [
    {
     "name": "stderr",
     "output_type": "stream",
     "text": [
      "[nltk_data] Downloading package stopwords to\n",
      "[nltk_data]     /Users/anirudhsriram/nltk_data...\n",
      "[nltk_data]   Package stopwords is already up-to-date!\n"
     ]
    }
   ],
   "source": [
    "from nltk.corpus import stopwords\n",
    "nltk.download('stopwords')\n",
    "stopword_set = stopwords.words('english')\n",
    "punctuations = [':', ';', ',', '(', ')', '\\'', '\"', '-', '“','”', '’', '.']\n",
    "for symbol in punctuations:\n",
    "    stopword_set.append(symbol)\n",
    "isot_dataset['text_stop_words_removed'] = isot_dataset.apply(lambda row: [word for word in row['text_tokenized'] if not word in stopword_set], axis = 1)\n",
    "isot_dataset['title_stop_words_removed'] = isot_dataset.apply(lambda row: [word for word in row['title_tokenized'] if not word in stopword_set], axis = 1)"
   ]
  },
  {
   "cell_type": "code",
   "execution_count": 11,
   "id": "9f38889b",
   "metadata": {},
   "outputs": [
    {
     "data": {
      "text/html": [
       "<div>\n",
       "<style scoped>\n",
       "    .dataframe tbody tr th:only-of-type {\n",
       "        vertical-align: middle;\n",
       "    }\n",
       "\n",
       "    .dataframe tbody tr th {\n",
       "        vertical-align: top;\n",
       "    }\n",
       "\n",
       "    .dataframe thead th {\n",
       "        text-align: right;\n",
       "    }\n",
       "</style>\n",
       "<table border=\"1\" class=\"dataframe\">\n",
       "  <thead>\n",
       "    <tr style=\"text-align: right;\">\n",
       "      <th></th>\n",
       "      <th>subject</th>\n",
       "      <th>title</th>\n",
       "      <th>text</th>\n",
       "      <th>date</th>\n",
       "      <th>title_tokenized</th>\n",
       "      <th>text_tokenized</th>\n",
       "      <th>text_stop_words_removed</th>\n",
       "      <th>title_stop_words_removed</th>\n",
       "    </tr>\n",
       "  </thead>\n",
       "  <tbody>\n",
       "    <tr>\n",
       "      <th>0</th>\n",
       "      <td>politics</td>\n",
       "      <td>As U.S. budget fight looms, Republicans flip t...</td>\n",
       "      <td>WASHINGTON (Reuters) - The head of a conservat...</td>\n",
       "      <td>December 31, 2017</td>\n",
       "      <td>[a, u.s., budget, fight, loom, ,, republican, ...</td>\n",
       "      <td>[washington, (, reuters, ), -, the, head, of, ...</td>\n",
       "      <td>[washington, reuters, head, conservative, repu...</td>\n",
       "      <td>[u.s., budget, fight, loom, republican, flip, ...</td>\n",
       "    </tr>\n",
       "    <tr>\n",
       "      <th>1</th>\n",
       "      <td>politics</td>\n",
       "      <td>U.S. military to accept transgender recruits o...</td>\n",
       "      <td>WASHINGTON (Reuters) - Transgender people will...</td>\n",
       "      <td>December 29, 2017</td>\n",
       "      <td>[u.s., military, to, accept, transgender, recr...</td>\n",
       "      <td>[washington, (, reuters, ), -, transgender, pe...</td>\n",
       "      <td>[washington, reuters, transgender, people, all...</td>\n",
       "      <td>[u.s., military, accept, transgender, recruit,...</td>\n",
       "    </tr>\n",
       "    <tr>\n",
       "      <th>2</th>\n",
       "      <td>politics</td>\n",
       "      <td>Senior U.S. Republican senator: 'Let Mr. Muell...</td>\n",
       "      <td>WASHINGTON (Reuters) - The special counsel inv...</td>\n",
       "      <td>December 31, 2017</td>\n",
       "      <td>[senior, u.s., republican, senator, :, 'let, m...</td>\n",
       "      <td>[washington, (, reuters, ), -, the, special, c...</td>\n",
       "      <td>[washington, reuters, special, counsel, invest...</td>\n",
       "      <td>[senior, u.s., republican, senator, 'let, mr.,...</td>\n",
       "    </tr>\n",
       "    <tr>\n",
       "      <th>3</th>\n",
       "      <td>politics</td>\n",
       "      <td>FBI Russia probe helped by Australian diplomat...</td>\n",
       "      <td>WASHINGTON (Reuters) - Trump campaign adviser ...</td>\n",
       "      <td>December 30, 2017</td>\n",
       "      <td>[fbi, russia, probe, helped, by, australian, d...</td>\n",
       "      <td>[washington, (, reuters, ), -, trump, campaign...</td>\n",
       "      <td>[washington, reuters, trump, campaign, adviser...</td>\n",
       "      <td>[fbi, russia, probe, helped, australian, diplo...</td>\n",
       "    </tr>\n",
       "    <tr>\n",
       "      <th>4</th>\n",
       "      <td>politics</td>\n",
       "      <td>Trump wants Postal Service to charge 'much mor...</td>\n",
       "      <td>SEATTLE/WASHINGTON (Reuters) - President Donal...</td>\n",
       "      <td>December 29, 2017</td>\n",
       "      <td>[trump, want, postal, service, to, charge, 'mu...</td>\n",
       "      <td>[seattle/washington, (, reuters, ), -, preside...</td>\n",
       "      <td>[seattle/washington, reuters, president, donal...</td>\n",
       "      <td>[trump, want, postal, service, charge, 'much, ...</td>\n",
       "    </tr>\n",
       "  </tbody>\n",
       "</table>\n",
       "</div>"
      ],
      "text/plain": [
       "    subject                                              title  \\\n",
       "0  politics  As U.S. budget fight looms, Republicans flip t...   \n",
       "1  politics  U.S. military to accept transgender recruits o...   \n",
       "2  politics  Senior U.S. Republican senator: 'Let Mr. Muell...   \n",
       "3  politics  FBI Russia probe helped by Australian diplomat...   \n",
       "4  politics  Trump wants Postal Service to charge 'much mor...   \n",
       "\n",
       "                                                text               date  \\\n",
       "0  WASHINGTON (Reuters) - The head of a conservat...  December 31, 2017   \n",
       "1  WASHINGTON (Reuters) - Transgender people will...  December 29, 2017   \n",
       "2  WASHINGTON (Reuters) - The special counsel inv...  December 31, 2017   \n",
       "3  WASHINGTON (Reuters) - Trump campaign adviser ...  December 30, 2017   \n",
       "4  SEATTLE/WASHINGTON (Reuters) - President Donal...  December 29, 2017   \n",
       "\n",
       "                                     title_tokenized  \\\n",
       "0  [a, u.s., budget, fight, loom, ,, republican, ...   \n",
       "1  [u.s., military, to, accept, transgender, recr...   \n",
       "2  [senior, u.s., republican, senator, :, 'let, m...   \n",
       "3  [fbi, russia, probe, helped, by, australian, d...   \n",
       "4  [trump, want, postal, service, to, charge, 'mu...   \n",
       "\n",
       "                                      text_tokenized  \\\n",
       "0  [washington, (, reuters, ), -, the, head, of, ...   \n",
       "1  [washington, (, reuters, ), -, transgender, pe...   \n",
       "2  [washington, (, reuters, ), -, the, special, c...   \n",
       "3  [washington, (, reuters, ), -, trump, campaign...   \n",
       "4  [seattle/washington, (, reuters, ), -, preside...   \n",
       "\n",
       "                             text_stop_words_removed  \\\n",
       "0  [washington, reuters, head, conservative, repu...   \n",
       "1  [washington, reuters, transgender, people, all...   \n",
       "2  [washington, reuters, special, counsel, invest...   \n",
       "3  [washington, reuters, trump, campaign, adviser...   \n",
       "4  [seattle/washington, reuters, president, donal...   \n",
       "\n",
       "                            title_stop_words_removed  \n",
       "0  [u.s., budget, fight, loom, republican, flip, ...  \n",
       "1  [u.s., military, accept, transgender, recruit,...  \n",
       "2  [senior, u.s., republican, senator, 'let, mr.,...  \n",
       "3  [fbi, russia, probe, helped, australian, diplo...  \n",
       "4  [trump, want, postal, service, charge, 'much, ...  "
      ]
     },
     "execution_count": 11,
     "metadata": {},
     "output_type": "execute_result"
    }
   ],
   "source": [
    "isot_dataset.head()"
   ]
  },
  {
   "cell_type": "code",
   "execution_count": 12,
   "id": "11650076",
   "metadata": {},
   "outputs": [],
   "source": [
    "isot_dataset.to_csv('./ISOT/combined_tokenized_stopword_removed.csv')"
   ]
  },
  {
   "cell_type": "code",
   "execution_count": 13,
   "id": "31f93965",
   "metadata": {},
   "outputs": [],
   "source": [
    "isot_dataset['text_recombined'] = isot_dataset.apply(lambda row: ' '.join(row['text_stop_words_removed']), axis = 1)\n",
    "isot_dataset['title_recombined'] = isot_dataset.apply(lambda row: ' '.join(row['title_stop_words_removed']), axis = 1)\n",
    "isot_dataset['title_text'] = isot_dataset.apply(lambda row: row['text_recombined'] + ' ' + row['title_recombined'])"
   ]
  },
  {
   "cell_type": "code",
   "execution_count": 30,
   "id": "d5c3aeb4",
   "metadata": {},
   "outputs": [],
   "source": [
    "isot_dataset['title_text'] = isot_dataset.apply(lambda row: row['text_recombined'] + ' ' + row['title_recombined'], axis = 1)"
   ]
  },
  {
   "cell_type": "code",
   "execution_count": 14,
   "id": "f4512a57",
   "metadata": {},
   "outputs": [
    {
     "data": {
      "text/html": [
       "<div>\n",
       "<style scoped>\n",
       "    .dataframe tbody tr th:only-of-type {\n",
       "        vertical-align: middle;\n",
       "    }\n",
       "\n",
       "    .dataframe tbody tr th {\n",
       "        vertical-align: top;\n",
       "    }\n",
       "\n",
       "    .dataframe thead th {\n",
       "        text-align: right;\n",
       "    }\n",
       "</style>\n",
       "<table border=\"1\" class=\"dataframe\">\n",
       "  <thead>\n",
       "    <tr style=\"text-align: right;\">\n",
       "      <th></th>\n",
       "      <th>subject</th>\n",
       "      <th>title</th>\n",
       "      <th>text</th>\n",
       "      <th>date</th>\n",
       "      <th>title_tokenized</th>\n",
       "      <th>text_tokenized</th>\n",
       "      <th>text_stop_words_removed</th>\n",
       "      <th>title_stop_words_removed</th>\n",
       "      <th>text_recombined</th>\n",
       "      <th>title_recombined</th>\n",
       "    </tr>\n",
       "  </thead>\n",
       "  <tbody>\n",
       "    <tr>\n",
       "      <th>0</th>\n",
       "      <td>politics</td>\n",
       "      <td>As U.S. budget fight looms, Republicans flip t...</td>\n",
       "      <td>WASHINGTON (Reuters) - The head of a conservat...</td>\n",
       "      <td>December 31, 2017</td>\n",
       "      <td>[a, u.s., budget, fight, loom, ,, republican, ...</td>\n",
       "      <td>[washington, (, reuters, ), -, the, head, of, ...</td>\n",
       "      <td>[washington, reuters, head, conservative, repu...</td>\n",
       "      <td>[u.s., budget, fight, loom, republican, flip, ...</td>\n",
       "      <td>washington reuters head conservative republica...</td>\n",
       "      <td>u.s. budget fight loom republican flip fiscal ...</td>\n",
       "    </tr>\n",
       "    <tr>\n",
       "      <th>1</th>\n",
       "      <td>politics</td>\n",
       "      <td>U.S. military to accept transgender recruits o...</td>\n",
       "      <td>WASHINGTON (Reuters) - Transgender people will...</td>\n",
       "      <td>December 29, 2017</td>\n",
       "      <td>[u.s., military, to, accept, transgender, recr...</td>\n",
       "      <td>[washington, (, reuters, ), -, transgender, pe...</td>\n",
       "      <td>[washington, reuters, transgender, people, all...</td>\n",
       "      <td>[u.s., military, accept, transgender, recruit,...</td>\n",
       "      <td>washington reuters transgender people allowed ...</td>\n",
       "      <td>u.s. military accept transgender recruit monda...</td>\n",
       "    </tr>\n",
       "    <tr>\n",
       "      <th>2</th>\n",
       "      <td>politics</td>\n",
       "      <td>Senior U.S. Republican senator: 'Let Mr. Muell...</td>\n",
       "      <td>WASHINGTON (Reuters) - The special counsel inv...</td>\n",
       "      <td>December 31, 2017</td>\n",
       "      <td>[senior, u.s., republican, senator, :, 'let, m...</td>\n",
       "      <td>[washington, (, reuters, ), -, the, special, c...</td>\n",
       "      <td>[washington, reuters, special, counsel, invest...</td>\n",
       "      <td>[senior, u.s., republican, senator, 'let, mr.,...</td>\n",
       "      <td>washington reuters special counsel investigati...</td>\n",
       "      <td>senior u.s. republican senator 'let mr. muelle...</td>\n",
       "    </tr>\n",
       "    <tr>\n",
       "      <th>3</th>\n",
       "      <td>politics</td>\n",
       "      <td>FBI Russia probe helped by Australian diplomat...</td>\n",
       "      <td>WASHINGTON (Reuters) - Trump campaign adviser ...</td>\n",
       "      <td>December 30, 2017</td>\n",
       "      <td>[fbi, russia, probe, helped, by, australian, d...</td>\n",
       "      <td>[washington, (, reuters, ), -, trump, campaign...</td>\n",
       "      <td>[washington, reuters, trump, campaign, adviser...</td>\n",
       "      <td>[fbi, russia, probe, helped, australian, diplo...</td>\n",
       "      <td>washington reuters trump campaign adviser geor...</td>\n",
       "      <td>fbi russia probe helped australian diplomat ti...</td>\n",
       "    </tr>\n",
       "    <tr>\n",
       "      <th>4</th>\n",
       "      <td>politics</td>\n",
       "      <td>Trump wants Postal Service to charge 'much mor...</td>\n",
       "      <td>SEATTLE/WASHINGTON (Reuters) - President Donal...</td>\n",
       "      <td>December 29, 2017</td>\n",
       "      <td>[trump, want, postal, service, to, charge, 'mu...</td>\n",
       "      <td>[seattle/washington, (, reuters, ), -, preside...</td>\n",
       "      <td>[seattle/washington, reuters, president, donal...</td>\n",
       "      <td>[trump, want, postal, service, charge, 'much, ...</td>\n",
       "      <td>seattle/washington reuters president donald tr...</td>\n",
       "      <td>trump want postal service charge 'much amazon ...</td>\n",
       "    </tr>\n",
       "  </tbody>\n",
       "</table>\n",
       "</div>"
      ],
      "text/plain": [
       "    subject                                              title  \\\n",
       "0  politics  As U.S. budget fight looms, Republicans flip t...   \n",
       "1  politics  U.S. military to accept transgender recruits o...   \n",
       "2  politics  Senior U.S. Republican senator: 'Let Mr. Muell...   \n",
       "3  politics  FBI Russia probe helped by Australian diplomat...   \n",
       "4  politics  Trump wants Postal Service to charge 'much mor...   \n",
       "\n",
       "                                                text               date  \\\n",
       "0  WASHINGTON (Reuters) - The head of a conservat...  December 31, 2017   \n",
       "1  WASHINGTON (Reuters) - Transgender people will...  December 29, 2017   \n",
       "2  WASHINGTON (Reuters) - The special counsel inv...  December 31, 2017   \n",
       "3  WASHINGTON (Reuters) - Trump campaign adviser ...  December 30, 2017   \n",
       "4  SEATTLE/WASHINGTON (Reuters) - President Donal...  December 29, 2017   \n",
       "\n",
       "                                     title_tokenized  \\\n",
       "0  [a, u.s., budget, fight, loom, ,, republican, ...   \n",
       "1  [u.s., military, to, accept, transgender, recr...   \n",
       "2  [senior, u.s., republican, senator, :, 'let, m...   \n",
       "3  [fbi, russia, probe, helped, by, australian, d...   \n",
       "4  [trump, want, postal, service, to, charge, 'mu...   \n",
       "\n",
       "                                      text_tokenized  \\\n",
       "0  [washington, (, reuters, ), -, the, head, of, ...   \n",
       "1  [washington, (, reuters, ), -, transgender, pe...   \n",
       "2  [washington, (, reuters, ), -, the, special, c...   \n",
       "3  [washington, (, reuters, ), -, trump, campaign...   \n",
       "4  [seattle/washington, (, reuters, ), -, preside...   \n",
       "\n",
       "                             text_stop_words_removed  \\\n",
       "0  [washington, reuters, head, conservative, repu...   \n",
       "1  [washington, reuters, transgender, people, all...   \n",
       "2  [washington, reuters, special, counsel, invest...   \n",
       "3  [washington, reuters, trump, campaign, adviser...   \n",
       "4  [seattle/washington, reuters, president, donal...   \n",
       "\n",
       "                            title_stop_words_removed  \\\n",
       "0  [u.s., budget, fight, loom, republican, flip, ...   \n",
       "1  [u.s., military, accept, transgender, recruit,...   \n",
       "2  [senior, u.s., republican, senator, 'let, mr.,...   \n",
       "3  [fbi, russia, probe, helped, australian, diplo...   \n",
       "4  [trump, want, postal, service, charge, 'much, ...   \n",
       "\n",
       "                                     text_recombined  \\\n",
       "0  washington reuters head conservative republica...   \n",
       "1  washington reuters transgender people allowed ...   \n",
       "2  washington reuters special counsel investigati...   \n",
       "3  washington reuters trump campaign adviser geor...   \n",
       "4  seattle/washington reuters president donald tr...   \n",
       "\n",
       "                                    title_recombined  \n",
       "0  u.s. budget fight loom republican flip fiscal ...  \n",
       "1  u.s. military accept transgender recruit monda...  \n",
       "2  senior u.s. republican senator 'let mr. muelle...  \n",
       "3  fbi russia probe helped australian diplomat ti...  \n",
       "4  trump want postal service charge 'much amazon ...  "
      ]
     },
     "execution_count": 14,
     "metadata": {},
     "output_type": "execute_result"
    }
   ],
   "source": [
    "isot_dataset.head()"
   ]
  },
  {
   "cell_type": "code",
   "execution_count": 15,
   "id": "70fc20ac",
   "metadata": {},
   "outputs": [],
   "source": [
    "isot_dataset.to_csv('./ISOT/recombined_tokenized_stopword_removed.csv')"
   ]
  },
  {
   "cell_type": "code",
   "execution_count": 21,
   "id": "1e982479",
   "metadata": {},
   "outputs": [
    {
     "name": "stderr",
     "output_type": "stream",
     "text": [
      "/var/folders/dc/n4yvlyr556953fdfk8tqltl40000gn/T/ipykernel_59670/4031159076.py:3: DeprecationWarning: Please use `csr_matrix` from the `scipy.sparse` namespace, the `scipy.sparse.csr` namespace is deprecated.\n",
      "  title_tfidf = pickle.load(f)\n"
     ]
    }
   ],
   "source": [
    "import pickle\n",
    "f = open('./ISOT/x_tfidf.pkl', 'rb')\n",
    "title_tfidf = pickle.load(f)"
   ]
  },
  {
   "cell_type": "code",
   "execution_count": 22,
   "id": "1b8ce814",
   "metadata": {},
   "outputs": [
    {
     "data": {
      "text/plain": [
       "<40536x17699 sparse matrix of type '<class 'numpy.float64'>'\n",
       "\twith 373728 stored elements in Compressed Sparse Row format>"
      ]
     },
     "execution_count": 22,
     "metadata": {},
     "output_type": "execute_result"
    }
   ],
   "source": [
    "title_tfidf"
   ]
  },
  {
   "cell_type": "code",
   "execution_count": 23,
   "id": "9e3ae35d",
   "metadata": {},
   "outputs": [],
   "source": [
    "from sklearn.feature_extraction.text import TfidfVectorizer\n",
    "v = TfidfVectorizer()"
   ]
  },
  {
   "cell_type": "code",
   "execution_count": 25,
   "id": "41786423",
   "metadata": {},
   "outputs": [],
   "source": [
    "x = v.fit_transform(isot_dataset['title_recombined'])"
   ]
  },
  {
   "cell_type": "code",
   "execution_count": 27,
   "id": "79265c99",
   "metadata": {},
   "outputs": [
    {
     "name": "stderr",
     "output_type": "stream",
     "text": [
      "/Users/anirudhsriram/A/ms/analytics/fake-news-detector/datasets/dataset-env/lib/python3.8/site-packages/sklearn/utils/deprecation.py:87: FutureWarning: Function get_feature_names is deprecated; get_feature_names is deprecated in 1.0 and will be removed in 1.2. Please use get_feature_names_out instead.\n",
      "  warnings.warn(msg, category=FutureWarning)\n"
     ]
    }
   ],
   "source": [
    "x_tfidf = pd.DataFrame(x.toarray(), columns=v.get_feature_names())"
   ]
  },
  {
   "cell_type": "code",
   "execution_count": null,
   "id": "ba93dcb4",
   "metadata": {},
   "outputs": [],
   "source": [
    "x_tfidf."
   ]
  }
 ],
 "metadata": {
  "kernelspec": {
   "display_name": "Python 3 (ipykernel)",
   "language": "python",
   "name": "python3"
  },
  "language_info": {
   "codemirror_mode": {
    "name": "ipython",
    "version": 3
   },
   "file_extension": ".py",
   "mimetype": "text/x-python",
   "name": "python",
   "nbconvert_exporter": "python",
   "pygments_lexer": "ipython3",
   "version": "3.8.2"
  }
 },
 "nbformat": 4,
 "nbformat_minor": 5
}
