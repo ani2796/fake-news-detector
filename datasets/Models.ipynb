{
 "cells": [
  {
   "cell_type": "code",
   "execution_count": 61,
   "id": "c3c9b2b1",
   "metadata": {},
   "outputs": [],
   "source": [
    "import pandas as pd\n",
    "import nltk"
   ]
  },
  {
   "cell_type": "code",
   "execution_count": 62,
   "id": "bd679c8b",
   "metadata": {
    "scrolled": false
   },
   "outputs": [],
   "source": [
    "isot_dataset = pd.read_csv(\"./ISOT/combined.csv\", sep=\";\")"
   ]
  },
  {
   "cell_type": "code",
   "execution_count": 63,
   "id": "32490730",
   "metadata": {},
   "outputs": [
    {
     "data": {
      "text/html": [
       "<div>\n",
       "<style scoped>\n",
       "    .dataframe tbody tr th:only-of-type {\n",
       "        vertical-align: middle;\n",
       "    }\n",
       "\n",
       "    .dataframe tbody tr th {\n",
       "        vertical-align: top;\n",
       "    }\n",
       "\n",
       "    .dataframe thead th {\n",
       "        text-align: right;\n",
       "    }\n",
       "</style>\n",
       "<table border=\"1\" class=\"dataframe\">\n",
       "  <thead>\n",
       "    <tr style=\"text-align: right;\">\n",
       "      <th></th>\n",
       "      <th>subject</th>\n",
       "      <th>title</th>\n",
       "      <th>text</th>\n",
       "      <th>date</th>\n",
       "      <th>TF</th>\n",
       "    </tr>\n",
       "  </thead>\n",
       "  <tbody>\n",
       "    <tr>\n",
       "      <th>0</th>\n",
       "      <td>politics</td>\n",
       "      <td>U.S. Senate confirms Trump's pick for top Supr...</td>\n",
       "      <td>WASHINGTON (Reuters) - The Republican-controll...</td>\n",
       "      <td>September 21, 2017</td>\n",
       "      <td>True</td>\n",
       "    </tr>\n",
       "    <tr>\n",
       "      <th>1</th>\n",
       "      <td>worldnews</td>\n",
       "      <td>Catalonia government says 893 injured in clash...</td>\n",
       "      <td>MADRID (Reuters) - The Catalan health service ...</td>\n",
       "      <td>October 2, 2017</td>\n",
       "      <td>True</td>\n",
       "    </tr>\n",
       "    <tr>\n",
       "      <th>2</th>\n",
       "      <td>politics</td>\n",
       "      <td>COLLEGE HOLDS EARLY SEGREGATED ORIENTATION To ...</td>\n",
       "      <td>THIS IS EXPECTED FROM THIS LEFTY COLLEGE Will ...</td>\n",
       "      <td>Aug 16, 2017</td>\n",
       "      <td>False</td>\n",
       "    </tr>\n",
       "    <tr>\n",
       "      <th>3</th>\n",
       "      <td>politics</td>\n",
       "      <td>LIBERAL LUNATIC CHRIS MATTHEWS Scolded By Pier...</td>\n",
       "      <td>Who knew former CNN anchor Piers Morgan would ...</td>\n",
       "      <td>Apr 13, 2017</td>\n",
       "      <td>False</td>\n",
       "    </tr>\n",
       "    <tr>\n",
       "      <th>4</th>\n",
       "      <td>worldnews</td>\n",
       "      <td>Sarah Palin Just Sent A Truly Idiotic Message ...</td>\n",
       "      <td>Now that Ted Cruz has dropped out of the presi...</td>\n",
       "      <td>May 4, 2016</td>\n",
       "      <td>False</td>\n",
       "    </tr>\n",
       "  </tbody>\n",
       "</table>\n",
       "</div>"
      ],
      "text/plain": [
       "     subject                                              title  \\\n",
       "0   politics  U.S. Senate confirms Trump's pick for top Supr...   \n",
       "1  worldnews  Catalonia government says 893 injured in clash...   \n",
       "2   politics  COLLEGE HOLDS EARLY SEGREGATED ORIENTATION To ...   \n",
       "3   politics  LIBERAL LUNATIC CHRIS MATTHEWS Scolded By Pier...   \n",
       "4  worldnews  Sarah Palin Just Sent A Truly Idiotic Message ...   \n",
       "\n",
       "                                                text                date  \\\n",
       "0  WASHINGTON (Reuters) - The Republican-controll...  September 21, 2017   \n",
       "1  MADRID (Reuters) - The Catalan health service ...     October 2, 2017   \n",
       "2  THIS IS EXPECTED FROM THIS LEFTY COLLEGE Will ...        Aug 16, 2017   \n",
       "3  Who knew former CNN anchor Piers Morgan would ...        Apr 13, 2017   \n",
       "4  Now that Ted Cruz has dropped out of the presi...         May 4, 2016   \n",
       "\n",
       "      TF  \n",
       "0   True  \n",
       "1   True  \n",
       "2  False  \n",
       "3  False  \n",
       "4  False  "
      ]
     },
     "execution_count": 63,
     "metadata": {},
     "output_type": "execute_result"
    }
   ],
   "source": [
    "isot_dataset.head()"
   ]
  },
  {
   "cell_type": "code",
   "execution_count": 64,
   "id": "d788d856",
   "metadata": {},
   "outputs": [
    {
     "name": "stderr",
     "output_type": "stream",
     "text": [
      "[nltk_data] Downloading package punkt to\n",
      "[nltk_data]     /Users/anirudhsriram/nltk_data...\n",
      "[nltk_data]   Package punkt is already up-to-date!\n",
      "[nltk_data] Downloading package wordnet to\n",
      "[nltk_data]     /Users/anirudhsriram/nltk_data...\n",
      "[nltk_data]   Package wordnet is already up-to-date!\n"
     ]
    },
    {
     "data": {
      "text/plain": [
       "True"
      ]
     },
     "execution_count": 64,
     "metadata": {},
     "output_type": "execute_result"
    }
   ],
   "source": [
    "nltk.download('punkt')\n",
    "nltk.download('wordnet')"
   ]
  },
  {
   "cell_type": "code",
   "execution_count": 65,
   "id": "b9dd981b",
   "metadata": {},
   "outputs": [],
   "source": [
    "isot_dataset['title_tokenized'] = isot_dataset.apply(lambda row: nltk.word_tokenize(row['title']), axis = 1)\n",
    "isot_dataset = isot_dataset.loc[~ isot_dataset['text'].isnull()]\n",
    "isot_dataset['text_tokenized'] = isot_dataset.apply(lambda row: nltk.word_tokenize(row['text']), axis = 1)"
   ]
  },
  {
   "cell_type": "code",
   "execution_count": 66,
   "id": "01505196",
   "metadata": {},
   "outputs": [],
   "source": [
    "isot_dataset['text_tokenized'] = isot_dataset.apply(lambda row: [word.lower() for word in row['text_tokenized']], axis = 1)\n",
    "isot_dataset['title_tokenized'] = isot_dataset.apply(lambda row: [word.lower() for word in row['title_tokenized']], axis = 1)"
   ]
  },
  {
   "cell_type": "code",
   "execution_count": 67,
   "id": "d3cd2b5d",
   "metadata": {},
   "outputs": [],
   "source": [
    "from nltk.stem import WordNetLemmatizer\n",
    "lemmatizer = WordNetLemmatizer()\n",
    "isot_dataset['text_tokenized'] = isot_dataset.apply(lambda row: [lemmatizer.lemmatize(word) for word in row['text_tokenized']], axis = 1)\n",
    "isot_dataset['title_tokenized'] = isot_dataset.apply(lambda row: [lemmatizer.lemmatize(word) for word in row['title_tokenized']], axis = 1)"
   ]
  },
  {
   "cell_type": "code",
   "execution_count": 68,
   "id": "28679b33",
   "metadata": {},
   "outputs": [
    {
     "data": {
      "text/plain": [
       "0    [u.s., senate, confirms, trump, 's, pick, for,...\n",
       "1    [catalonia, government, say, 893, injured, in,...\n",
       "2    [college, hold, early, segregated, orientation...\n",
       "3    [liberal, lunatic, chris, matthew, scolded, by...\n",
       "4    [sarah, palin, just, sent, a, truly, idiotic, ...\n",
       "Name: title_tokenized, dtype: object"
      ]
     },
     "execution_count": 68,
     "metadata": {},
     "output_type": "execute_result"
    }
   ],
   "source": [
    "isot_dataset['text_tokenized'].head()\n",
    "isot_dataset['title_tokenized'].head()"
   ]
  },
  {
   "cell_type": "code",
   "execution_count": 69,
   "id": "f5000ed2",
   "metadata": {},
   "outputs": [
    {
     "name": "stderr",
     "output_type": "stream",
     "text": [
      "[nltk_data] Downloading package stopwords to\n",
      "[nltk_data]     /Users/anirudhsriram/nltk_data...\n",
      "[nltk_data]   Package stopwords is already up-to-date!\n"
     ]
    }
   ],
   "source": [
    "from nltk.corpus import stopwords\n",
    "nltk.download('stopwords')\n",
    "stopword_set = stopwords.words('english')\n",
    "punctuations = [':', ';', ',', '(', ')', '\\'', '\"', '-', '“','”', '’', '.']\n",
    "for symbol in punctuations:\n",
    "    stopword_set.append(symbol)\n",
    "isot_dataset['text_stop_words_removed'] = isot_dataset.apply(lambda row: [word for word in row['text_tokenized'] if not word in stopword_set], axis = 1)\n",
    "isot_dataset['title_stop_words_removed'] = isot_dataset.apply(lambda row: [word for word in row['title_tokenized'] if not word in stopword_set], axis = 1)"
   ]
  },
  {
   "cell_type": "code",
   "execution_count": 70,
   "id": "9f38889b",
   "metadata": {},
   "outputs": [
    {
     "data": {
      "text/html": [
       "<div>\n",
       "<style scoped>\n",
       "    .dataframe tbody tr th:only-of-type {\n",
       "        vertical-align: middle;\n",
       "    }\n",
       "\n",
       "    .dataframe tbody tr th {\n",
       "        vertical-align: top;\n",
       "    }\n",
       "\n",
       "    .dataframe thead th {\n",
       "        text-align: right;\n",
       "    }\n",
       "</style>\n",
       "<table border=\"1\" class=\"dataframe\">\n",
       "  <thead>\n",
       "    <tr style=\"text-align: right;\">\n",
       "      <th></th>\n",
       "      <th>subject</th>\n",
       "      <th>title</th>\n",
       "      <th>text</th>\n",
       "      <th>date</th>\n",
       "      <th>TF</th>\n",
       "      <th>title_tokenized</th>\n",
       "      <th>text_tokenized</th>\n",
       "      <th>text_stop_words_removed</th>\n",
       "      <th>title_stop_words_removed</th>\n",
       "    </tr>\n",
       "  </thead>\n",
       "  <tbody>\n",
       "    <tr>\n",
       "      <th>0</th>\n",
       "      <td>politics</td>\n",
       "      <td>U.S. Senate confirms Trump's pick for top Supr...</td>\n",
       "      <td>WASHINGTON (Reuters) - The Republican-controll...</td>\n",
       "      <td>September 21, 2017</td>\n",
       "      <td>True</td>\n",
       "      <td>[u.s., senate, confirms, trump, 's, pick, for,...</td>\n",
       "      <td>[washington, (, reuters, ), -, the, republican...</td>\n",
       "      <td>[washington, reuters, republican-controlled, u...</td>\n",
       "      <td>[u.s., senate, confirms, trump, 's, pick, top,...</td>\n",
       "    </tr>\n",
       "    <tr>\n",
       "      <th>1</th>\n",
       "      <td>worldnews</td>\n",
       "      <td>Catalonia government says 893 injured in clash...</td>\n",
       "      <td>MADRID (Reuters) - The Catalan health service ...</td>\n",
       "      <td>October 2, 2017</td>\n",
       "      <td>True</td>\n",
       "      <td>[catalonia, government, say, 893, injured, in,...</td>\n",
       "      <td>[madrid, (, reuters, ), -, the, catalan, healt...</td>\n",
       "      <td>[madrid, reuters, catalan, health, service, sa...</td>\n",
       "      <td>[catalonia, government, say, 893, injured, cla...</td>\n",
       "    </tr>\n",
       "    <tr>\n",
       "      <th>2</th>\n",
       "      <td>politics</td>\n",
       "      <td>COLLEGE HOLDS EARLY SEGREGATED ORIENTATION To ...</td>\n",
       "      <td>THIS IS EXPECTED FROM THIS LEFTY COLLEGE Will ...</td>\n",
       "      <td>Aug 16, 2017</td>\n",
       "      <td>False</td>\n",
       "      <td>[college, hold, early, segregated, orientation...</td>\n",
       "      <td>[this, is, expected, from, this, lefty, colleg...</td>\n",
       "      <td>[expected, lefty, college, trickle, college, ?...</td>\n",
       "      <td>[college, hold, early, segregated, orientation...</td>\n",
       "    </tr>\n",
       "    <tr>\n",
       "      <th>3</th>\n",
       "      <td>politics</td>\n",
       "      <td>LIBERAL LUNATIC CHRIS MATTHEWS Scolded By Pier...</td>\n",
       "      <td>Who knew former CNN anchor Piers Morgan would ...</td>\n",
       "      <td>Apr 13, 2017</td>\n",
       "      <td>False</td>\n",
       "      <td>[liberal, lunatic, chris, matthew, scolded, by...</td>\n",
       "      <td>[who, knew, former, cnn, anchor, pier, morgan,...</td>\n",
       "      <td>[knew, former, cnn, anchor, pier, morgan, woul...</td>\n",
       "      <td>[liberal, lunatic, chris, matthew, scolded, pi...</td>\n",
       "    </tr>\n",
       "    <tr>\n",
       "      <th>4</th>\n",
       "      <td>worldnews</td>\n",
       "      <td>Sarah Palin Just Sent A Truly Idiotic Message ...</td>\n",
       "      <td>Now that Ted Cruz has dropped out of the presi...</td>\n",
       "      <td>May 4, 2016</td>\n",
       "      <td>False</td>\n",
       "      <td>[sarah, palin, just, sent, a, truly, idiotic, ...</td>\n",
       "      <td>[now, that, ted, cruz, ha, dropped, out, of, t...</td>\n",
       "      <td>[ted, cruz, ha, dropped, presidential, race, d...</td>\n",
       "      <td>[sarah, palin, sent, truly, idiotic, message, ...</td>\n",
       "    </tr>\n",
       "  </tbody>\n",
       "</table>\n",
       "</div>"
      ],
      "text/plain": [
       "     subject                                              title  \\\n",
       "0   politics  U.S. Senate confirms Trump's pick for top Supr...   \n",
       "1  worldnews  Catalonia government says 893 injured in clash...   \n",
       "2   politics  COLLEGE HOLDS EARLY SEGREGATED ORIENTATION To ...   \n",
       "3   politics  LIBERAL LUNATIC CHRIS MATTHEWS Scolded By Pier...   \n",
       "4  worldnews  Sarah Palin Just Sent A Truly Idiotic Message ...   \n",
       "\n",
       "                                                text                date  \\\n",
       "0  WASHINGTON (Reuters) - The Republican-controll...  September 21, 2017   \n",
       "1  MADRID (Reuters) - The Catalan health service ...     October 2, 2017   \n",
       "2  THIS IS EXPECTED FROM THIS LEFTY COLLEGE Will ...        Aug 16, 2017   \n",
       "3  Who knew former CNN anchor Piers Morgan would ...        Apr 13, 2017   \n",
       "4  Now that Ted Cruz has dropped out of the presi...         May 4, 2016   \n",
       "\n",
       "      TF                                    title_tokenized  \\\n",
       "0   True  [u.s., senate, confirms, trump, 's, pick, for,...   \n",
       "1   True  [catalonia, government, say, 893, injured, in,...   \n",
       "2  False  [college, hold, early, segregated, orientation...   \n",
       "3  False  [liberal, lunatic, chris, matthew, scolded, by...   \n",
       "4  False  [sarah, palin, just, sent, a, truly, idiotic, ...   \n",
       "\n",
       "                                      text_tokenized  \\\n",
       "0  [washington, (, reuters, ), -, the, republican...   \n",
       "1  [madrid, (, reuters, ), -, the, catalan, healt...   \n",
       "2  [this, is, expected, from, this, lefty, colleg...   \n",
       "3  [who, knew, former, cnn, anchor, pier, morgan,...   \n",
       "4  [now, that, ted, cruz, ha, dropped, out, of, t...   \n",
       "\n",
       "                             text_stop_words_removed  \\\n",
       "0  [washington, reuters, republican-controlled, u...   \n",
       "1  [madrid, reuters, catalan, health, service, sa...   \n",
       "2  [expected, lefty, college, trickle, college, ?...   \n",
       "3  [knew, former, cnn, anchor, pier, morgan, woul...   \n",
       "4  [ted, cruz, ha, dropped, presidential, race, d...   \n",
       "\n",
       "                            title_stop_words_removed  \n",
       "0  [u.s., senate, confirms, trump, 's, pick, top,...  \n",
       "1  [catalonia, government, say, 893, injured, cla...  \n",
       "2  [college, hold, early, segregated, orientation...  \n",
       "3  [liberal, lunatic, chris, matthew, scolded, pi...  \n",
       "4  [sarah, palin, sent, truly, idiotic, message, ...  "
      ]
     },
     "execution_count": 70,
     "metadata": {},
     "output_type": "execute_result"
    }
   ],
   "source": [
    "isot_dataset.head()"
   ]
  },
  {
   "cell_type": "code",
   "execution_count": 74,
   "id": "52c06183",
   "metadata": {},
   "outputs": [],
   "source": [
    "isot_dataset['text_recombined'] = isot_dataset.apply(lambda row: ' '.join(row['text_stop_words_removed']), axis = 1)\n",
    "isot_dataset['title_recombined'] = isot_dataset.apply(lambda row: ' '.join(row['title_stop_words_removed']), axis = 1)\n",
    "isot_dataset['title_text'] = isot_dataset.apply(lambda row: row['text_recombined'] + ' ' + row['title_recombined'], axis = 1)"
   ]
  },
  {
   "cell_type": "code",
   "execution_count": 76,
   "id": "11650076",
   "metadata": {},
   "outputs": [],
   "source": [
    "isot_dataset.to_csv('./ISOT/combined_tokenized_stopword_removed.csv')"
   ]
  },
  {
   "cell_type": "code",
   "execution_count": 77,
   "id": "f4512a57",
   "metadata": {},
   "outputs": [
    {
     "data": {
      "text/plain": [
       "0    washington reuters republican-controlled u.s. ...\n",
       "1    madrid reuters catalan health service said 893...\n",
       "2    expected lefty college trickle college ? parti...\n",
       "3    knew former cnn anchor pier morgan would criti...\n",
       "4    ted cruz ha dropped presidential race donald t...\n",
       "Name: title_text, dtype: object"
      ]
     },
     "execution_count": 77,
     "metadata": {},
     "output_type": "execute_result"
    }
   ],
   "source": [
    "isot_dataset['title_text'].head()"
   ]
  },
  {
   "cell_type": "code",
   "execution_count": 78,
   "id": "db8c042b",
   "metadata": {},
   "outputs": [],
   "source": [
    "from sklearn.feature_extraction.text import TfidfVectorizer\n",
    "v = TfidfVectorizer(ngram_range = (1, 3))"
   ]
  },
  {
   "cell_type": "code",
   "execution_count": 79,
   "id": "42380073",
   "metadata": {},
   "outputs": [],
   "source": [
    "x = v.fit_transform(isot_dataset['title_recombined'])"
   ]
  },
  {
   "cell_type": "code",
   "execution_count": 80,
   "id": "4035412f",
   "metadata": {},
   "outputs": [
    {
     "name": "stderr",
     "output_type": "stream",
     "text": [
      "/Users/anirudhsriram/A/ms/analytics/fake-news-detector/datasets/dataset-env/lib/python3.8/site-packages/sklearn/utils/deprecation.py:87: FutureWarning: Function get_feature_names is deprecated; get_feature_names is deprecated in 1.0 and will be removed in 1.2. Please use get_feature_names_out instead.\n",
      "  warnings.warn(msg, category=FutureWarning)\n"
     ]
    }
   ],
   "source": [
    "x_tfidf = pd.DataFrame(x.toarray(), columns=v.get_feature_names())"
   ]
  },
  {
   "cell_type": "code",
   "execution_count": 83,
   "id": "a5a3adfd",
   "metadata": {},
   "outputs": [],
   "source": [
    "isot_dataset.replace({False: 0, True: 1}, inplace=True)\n",
    "y = isot_dataset['TF']"
   ]
  },
  {
   "cell_type": "code",
   "execution_count": 84,
   "id": "3b597a89",
   "metadata": {},
   "outputs": [
    {
     "data": {
      "text/plain": [
       "0    1\n",
       "1    1\n",
       "2    0\n",
       "3    0\n",
       "4    0\n",
       "Name: TF, dtype: int64"
      ]
     },
     "execution_count": 84,
     "metadata": {},
     "output_type": "execute_result"
    }
   ],
   "source": [
    "y.head()"
   ]
  },
  {
   "cell_type": "code",
   "execution_count": 85,
   "id": "0081ebbc",
   "metadata": {},
   "outputs": [],
   "source": [
    "# Run this if you want to add each TF IDF value to the original dataset instead of keeping it separate\n",
    "# isot_dataset = pd.concat([isot_dataset, x_tfidf], axis = 1)"
   ]
  },
  {
   "cell_type": "code",
   "execution_count": 86,
   "id": "26455e71",
   "metadata": {},
   "outputs": [],
   "source": [
    "from sklearn.model_selection import train_test_split\n",
    "\n",
    "x_train, x_test, y_train, y_test = train_test_split(x, y, test_size=0.2, random_state = 1)"
   ]
  },
  {
   "cell_type": "code",
   "execution_count": 96,
   "id": "7b282d81",
   "metadata": {},
   "outputs": [],
   "source": [
    "# MultinomialNB Algorithm\n",
    "from sklearn.naive_bayes import MultinomialNB\n",
    "from sklearn import metrics\n",
    "import numpy as np\n",
    "import itertools\n",
    "import matplotlib.pyplot as plt\n",
    "\n",
    "classifier=MultinomialNB()"
   ]
  },
  {
   "cell_type": "code",
   "execution_count": 97,
   "id": "f0a7f675",
   "metadata": {},
   "outputs": [],
   "source": [
    "def plot_confusion_matrix(cm, classes,\n",
    "                          normalize=False,\n",
    "                          title='Confusion matrix',\n",
    "                          cmap=plt.cm.Blues):\n",
    "    \"\"\"\n",
    "    See full source and example: \n",
    "    http://scikit-learn.org/stable/auto_examples/model_selection/plot_confusion_matrix.html\n",
    "    \n",
    "    This function prints and plots the confusion matrix.\n",
    "    Normalization can be applied by setting `normalize=True`.\n",
    "    \"\"\"\n",
    "    plt.imshow(cm, interpolation='nearest', cmap=cmap)\n",
    "    plt.title(title)\n",
    "    plt.colorbar()\n",
    "    tick_marks = np.arange(len(classes))\n",
    "    plt.xticks(tick_marks, classes, rotation=45)\n",
    "    plt.yticks(tick_marks, classes)\n",
    "\n",
    "    if normalize:\n",
    "        cm = cm.astype('float') / cm.sum(axis=1)[:, np.newaxis]\n",
    "        print(\"Normalized confusion matrix\")\n",
    "    else:\n",
    "        print('Confusion matrix, without normalization')\n",
    "\n",
    "    thresh = cm.max() / 2.\n",
    "    for i, j in itertools.product(range(cm.shape[0]), range(cm.shape[1])):\n",
    "        plt.text(j, i, cm[i, j],\n",
    "                 horizontalalignment=\"center\",\n",
    "                 color=\"white\" if cm[i, j] > thresh else \"black\")\n",
    "\n",
    "    plt.tight_layout()\n",
    "    plt.ylabel('True label')\n",
    "    plt.xlabel('Predicted label')"
   ]
  },
  {
   "cell_type": "code",
   "execution_count": 98,
   "id": "231c3cb1",
   "metadata": {},
   "outputs": [
    {
     "name": "stdout",
     "output_type": "stream",
     "text": [
      "accuracy:   0.949\n",
      "Confusion matrix, without normalization\n"
     ]
    },
    {
     "data": {
      "image/png": "[encoded data removed]",
      "text/plain": [
       "<Figure size 432x288 with 2 Axes>"
      ]
     },
     "metadata": {
      "needs_background": "light"
     },
     "output_type": "display_data"
    }
   ],
   "source": [
    "classifier.fit(x_train, y_train)\n",
    "pred = classifier.predict(x_test)\n",
    "score = metrics.accuracy_score(y_test, pred)\n",
    "print(\"accuracy:   %0.3f\" % score)\n",
    "cm = metrics.confusion_matrix(y_test, pred)\n",
    "plot_confusion_matrix(cm, classes=['FAKE', 'REAL'])"
   ]
  },
  {
   "cell_type": "code",
   "execution_count": 99,
   "id": "2e631870",
   "metadata": {},
   "outputs": [],
   "source": [
    "from sklearn import svm"
   ]
  },
  {
   "cell_type": "code",
   "execution_count": 100,
   "id": "2e6e3034",
   "metadata": {},
   "outputs": [],
   "source": [
    "clf = svm.SVC(kernel='linear')"
   ]
  },
  {
   "cell_type": "code",
   "execution_count": 101,
   "id": "45747fd8",
   "metadata": {},
   "outputs": [
    {
     "name": "stdout",
     "output_type": "stream",
     "text": [
      "accuracy:   0.955\n",
      "Confusion matrix, without normalization\n"
     ]
    },
    {
     "data": {
      "image/png": "[encoded data removed]",
      "text/plain": [
       "<Figure size 432x288 with 2 Axes>"
      ]
     },
     "metadata": {
      "needs_background": "light"
     },
     "output_type": "display_data"
    }
   ],
   "source": [
    "clf.fit(x_train, y_train)\n",
    "pred = clf.predict(x_test)\n",
    "score = metrics.accuracy_score(y_test, pred)\n",
    "print(\"accuracy:   %0.3f\" % score)\n",
    "cm = metrics.confusion_matrix(y_test, pred)\n",
    "plot_confusion_matrix(cm, classes=['FAKE', 'REAL'])"
   ]
  },
  {
   "cell_type": "code",
   "execution_count": null,
   "id": "6c9dbf4f",
   "metadata": {},
   "outputs": [],
   "source": []
  }
 ],
 "metadata": {
  "kernelspec": {
   "display_name": "Python 3 (ipykernel)",
   "language": "python",
   "name": "python3"
  },
  "language_info": {
   "codemirror_mode": {
    "name": "ipython",
    "version": 3
   },
   "file_extension": ".py",
   "mimetype": "text/x-python",
   "name": "python",
   "nbconvert_exporter": "python",
   "pygments_lexer": "ipython3",
   "version": "3.8.2"
  }
 },
 "nbformat": 4,
 "nbformat_minor": 5
}
