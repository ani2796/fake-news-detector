{
 "cells": [
  {
   "cell_type": "code",
   "execution_count": 1,
   "id": "c3c9b2b1",
   "metadata": {},
   "outputs": [],
   "source": [
    "import pandas as pd"
   ]
  },
  {
   "cell_type": "code",
   "execution_count": 2,
   "id": "bd679c8b",
   "metadata": {
    "scrolled": false
   },
   "outputs": [],
   "source": [
    "isot_dataset = pd.read_csv(\"./ISOT/combined.csv\", sep=\";\")"
   ]
  },
  {
   "cell_type": "code",
   "execution_count": 3,
   "id": "32490730",
   "metadata": {},
   "outputs": [
    {
     "data": {
      "text/html": [
       "<div>\n",
       "<style scoped>\n",
       "    .dataframe tbody tr th:only-of-type {\n",
       "        vertical-align: middle;\n",
       "    }\n",
       "\n",
       "    .dataframe tbody tr th {\n",
       "        vertical-align: top;\n",
       "    }\n",
       "\n",
       "    .dataframe thead th {\n",
       "        text-align: right;\n",
       "    }\n",
       "</style>\n",
       "<table border=\"1\" class=\"dataframe\">\n",
       "  <thead>\n",
       "    <tr style=\"text-align: right;\">\n",
       "      <th></th>\n",
       "      <th>subject</th>\n",
       "      <th>title</th>\n",
       "      <th>text</th>\n",
       "      <th>date</th>\n",
       "    </tr>\n",
       "  </thead>\n",
       "  <tbody>\n",
       "    <tr>\n",
       "      <th>0</th>\n",
       "      <td>politics</td>\n",
       "      <td>As U.S. budget fight looms, Republicans flip t...</td>\n",
       "      <td>WASHINGTON (Reuters) - The head of a conservat...</td>\n",
       "      <td>December 31, 2017</td>\n",
       "    </tr>\n",
       "    <tr>\n",
       "      <th>1</th>\n",
       "      <td>politics</td>\n",
       "      <td>U.S. military to accept transgender recruits o...</td>\n",
       "      <td>WASHINGTON (Reuters) - Transgender people will...</td>\n",
       "      <td>December 29, 2017</td>\n",
       "    </tr>\n",
       "    <tr>\n",
       "      <th>2</th>\n",
       "      <td>politics</td>\n",
       "      <td>Senior U.S. Republican senator: 'Let Mr. Muell...</td>\n",
       "      <td>WASHINGTON (Reuters) - The special counsel inv...</td>\n",
       "      <td>December 31, 2017</td>\n",
       "    </tr>\n",
       "    <tr>\n",
       "      <th>3</th>\n",
       "      <td>politics</td>\n",
       "      <td>FBI Russia probe helped by Australian diplomat...</td>\n",
       "      <td>WASHINGTON (Reuters) - Trump campaign adviser ...</td>\n",
       "      <td>December 30, 2017</td>\n",
       "    </tr>\n",
       "    <tr>\n",
       "      <th>4</th>\n",
       "      <td>politics</td>\n",
       "      <td>Trump wants Postal Service to charge 'much mor...</td>\n",
       "      <td>SEATTLE/WASHINGTON (Reuters) - President Donal...</td>\n",
       "      <td>December 29, 2017</td>\n",
       "    </tr>\n",
       "  </tbody>\n",
       "</table>\n",
       "</div>"
      ],
      "text/plain": [
       "    subject                                              title  \\\n",
       "0  politics  As U.S. budget fight looms, Republicans flip t...   \n",
       "1  politics  U.S. military to accept transgender recruits o...   \n",
       "2  politics  Senior U.S. Republican senator: 'Let Mr. Muell...   \n",
       "3  politics  FBI Russia probe helped by Australian diplomat...   \n",
       "4  politics  Trump wants Postal Service to charge 'much mor...   \n",
       "\n",
       "                                                text               date  \n",
       "0  WASHINGTON (Reuters) - The head of a conservat...  December 31, 2017  \n",
       "1  WASHINGTON (Reuters) - Transgender people will...  December 29, 2017  \n",
       "2  WASHINGTON (Reuters) - The special counsel inv...  December 31, 2017  \n",
       "3  WASHINGTON (Reuters) - Trump campaign adviser ...  December 30, 2017  \n",
       "4  SEATTLE/WASHINGTON (Reuters) - President Donal...  December 29, 2017  "
      ]
     },
     "execution_count": 3,
     "metadata": {},
     "output_type": "execute_result"
    }
   ],
   "source": [
    "isot_dataset.head()"
   ]
  },
  {
   "cell_type": "code",
   "execution_count": 4,
   "id": "9ebed153",
   "metadata": {},
   "outputs": [],
   "source": [
    "import nltk"
   ]
  },
  {
   "cell_type": "code",
   "execution_count": 5,
   "id": "d788d856",
   "metadata": {},
   "outputs": [
    {
     "name": "stderr",
     "output_type": "stream",
     "text": [
      "[nltk_data] Downloading package punkt to\n",
      "[nltk_data]     /Users/anirudhsriram/nltk_data...\n",
      "[nltk_data]   Package punkt is already up-to-date!\n"
     ]
    },
    {
     "data": {
      "text/plain": [
       "True"
      ]
     },
     "execution_count": 5,
     "metadata": {},
     "output_type": "execute_result"
    }
   ],
   "source": [
    "nltk.download('punkt')"
   ]
  },
  {
   "cell_type": "code",
   "execution_count": 6,
   "id": "b9dd981b",
   "metadata": {},
   "outputs": [],
   "source": [
    "isot_dataset['title_tokenized'] = isot_dataset.apply(lambda row: nltk.word_tokenize(row['title']), axis = 1)"
   ]
  },
  {
   "cell_type": "code",
   "execution_count": 7,
   "id": "2ea84a95",
   "metadata": {},
   "outputs": [
    {
     "data": {
      "text/html": [
       "<div>\n",
       "<style scoped>\n",
       "    .dataframe tbody tr th:only-of-type {\n",
       "        vertical-align: middle;\n",
       "    }\n",
       "\n",
       "    .dataframe tbody tr th {\n",
       "        vertical-align: top;\n",
       "    }\n",
       "\n",
       "    .dataframe thead th {\n",
       "        text-align: right;\n",
       "    }\n",
       "</style>\n",
       "<table border=\"1\" class=\"dataframe\">\n",
       "  <thead>\n",
       "    <tr style=\"text-align: right;\">\n",
       "      <th></th>\n",
       "      <th>subject</th>\n",
       "      <th>title</th>\n",
       "      <th>text</th>\n",
       "      <th>date</th>\n",
       "      <th>title_tokenized</th>\n",
       "    </tr>\n",
       "  </thead>\n",
       "  <tbody>\n",
       "    <tr>\n",
       "      <th>0</th>\n",
       "      <td>politics</td>\n",
       "      <td>As U.S. budget fight looms, Republicans flip t...</td>\n",
       "      <td>WASHINGTON (Reuters) - The head of a conservat...</td>\n",
       "      <td>December 31, 2017</td>\n",
       "      <td>[As, U.S., budget, fight, looms, ,, Republican...</td>\n",
       "    </tr>\n",
       "    <tr>\n",
       "      <th>1</th>\n",
       "      <td>politics</td>\n",
       "      <td>U.S. military to accept transgender recruits o...</td>\n",
       "      <td>WASHINGTON (Reuters) - Transgender people will...</td>\n",
       "      <td>December 29, 2017</td>\n",
       "      <td>[U.S., military, to, accept, transgender, recr...</td>\n",
       "    </tr>\n",
       "    <tr>\n",
       "      <th>2</th>\n",
       "      <td>politics</td>\n",
       "      <td>Senior U.S. Republican senator: 'Let Mr. Muell...</td>\n",
       "      <td>WASHINGTON (Reuters) - The special counsel inv...</td>\n",
       "      <td>December 31, 2017</td>\n",
       "      <td>[Senior, U.S., Republican, senator, :, 'Let, M...</td>\n",
       "    </tr>\n",
       "    <tr>\n",
       "      <th>3</th>\n",
       "      <td>politics</td>\n",
       "      <td>FBI Russia probe helped by Australian diplomat...</td>\n",
       "      <td>WASHINGTON (Reuters) - Trump campaign adviser ...</td>\n",
       "      <td>December 30, 2017</td>\n",
       "      <td>[FBI, Russia, probe, helped, by, Australian, d...</td>\n",
       "    </tr>\n",
       "    <tr>\n",
       "      <th>4</th>\n",
       "      <td>politics</td>\n",
       "      <td>Trump wants Postal Service to charge 'much mor...</td>\n",
       "      <td>SEATTLE/WASHINGTON (Reuters) - President Donal...</td>\n",
       "      <td>December 29, 2017</td>\n",
       "      <td>[Trump, wants, Postal, Service, to, charge, 'm...</td>\n",
       "    </tr>\n",
       "  </tbody>\n",
       "</table>\n",
       "</div>"
      ],
      "text/plain": [
       "    subject                                              title  \\\n",
       "0  politics  As U.S. budget fight looms, Republicans flip t...   \n",
       "1  politics  U.S. military to accept transgender recruits o...   \n",
       "2  politics  Senior U.S. Republican senator: 'Let Mr. Muell...   \n",
       "3  politics  FBI Russia probe helped by Australian diplomat...   \n",
       "4  politics  Trump wants Postal Service to charge 'much mor...   \n",
       "\n",
       "                                                text               date  \\\n",
       "0  WASHINGTON (Reuters) - The head of a conservat...  December 31, 2017   \n",
       "1  WASHINGTON (Reuters) - Transgender people will...  December 29, 2017   \n",
       "2  WASHINGTON (Reuters) - The special counsel inv...  December 31, 2017   \n",
       "3  WASHINGTON (Reuters) - Trump campaign adviser ...  December 30, 2017   \n",
       "4  SEATTLE/WASHINGTON (Reuters) - President Donal...  December 29, 2017   \n",
       "\n",
       "                                     title_tokenized  \n",
       "0  [As, U.S., budget, fight, looms, ,, Republican...  \n",
       "1  [U.S., military, to, accept, transgender, recr...  \n",
       "2  [Senior, U.S., Republican, senator, :, 'Let, M...  \n",
       "3  [FBI, Russia, probe, helped, by, Australian, d...  \n",
       "4  [Trump, wants, Postal, Service, to, charge, 'm...  "
      ]
     },
     "execution_count": 7,
     "metadata": {},
     "output_type": "execute_result"
    }
   ],
   "source": [
    "isot_dataset.head()"
   ]
  },
  {
   "cell_type": "code",
   "execution_count": 26,
   "id": "bb5d0d9b",
   "metadata": {},
   "outputs": [],
   "source": [
    "isot_dataset = isot_dataset.loc[~ isot_dataset['text'].isnull()]\n",
    "isot_dataset['text_tokenized'] = isot_dataset.apply(lambda row: nltk.word_tokenize(row['text']), axis = 1)"
   ]
  },
  {
   "cell_type": "code",
   "execution_count": 28,
   "id": "1b4de1c1",
   "metadata": {},
   "outputs": [],
   "source": [
    "isot_dataset.head()"
   ]
  },
  {
   "cell_type": "code",
   "execution_count": 29,
   "id": "539d9493",
   "metadata": {},
   "outputs": [
    {
     "data": {
      "text/html": [
       "<div>\n",
       "<style scoped>\n",
       "    .dataframe tbody tr th:only-of-type {\n",
       "        vertical-align: middle;\n",
       "    }\n",
       "\n",
       "    .dataframe tbody tr th {\n",
       "        vertical-align: top;\n",
       "    }\n",
       "\n",
       "    .dataframe thead th {\n",
       "        text-align: right;\n",
       "    }\n",
       "</style>\n",
       "<table border=\"1\" class=\"dataframe\">\n",
       "  <thead>\n",
       "    <tr style=\"text-align: right;\">\n",
       "      <th></th>\n",
       "      <th>subject</th>\n",
       "      <th>title</th>\n",
       "      <th>text</th>\n",
       "      <th>date</th>\n",
       "      <th>title_tokenized</th>\n",
       "      <th>text_is_null</th>\n",
       "      <th>text_tokenized</th>\n",
       "    </tr>\n",
       "  </thead>\n",
       "  <tbody>\n",
       "    <tr>\n",
       "      <th>0</th>\n",
       "      <td>politics</td>\n",
       "      <td>As U.S. budget fight looms, Republicans flip t...</td>\n",
       "      <td>WASHINGTON (Reuters) - The head of a conservat...</td>\n",
       "      <td>December 31, 2017</td>\n",
       "      <td>[As, U.S., budget, fight, looms, ,, Republican...</td>\n",
       "      <td>False</td>\n",
       "      <td>[WASHINGTON, (, Reuters, ), -, The, head, of, ...</td>\n",
       "    </tr>\n",
       "    <tr>\n",
       "      <th>1</th>\n",
       "      <td>politics</td>\n",
       "      <td>U.S. military to accept transgender recruits o...</td>\n",
       "      <td>WASHINGTON (Reuters) - Transgender people will...</td>\n",
       "      <td>December 29, 2017</td>\n",
       "      <td>[U.S., military, to, accept, transgender, recr...</td>\n",
       "      <td>False</td>\n",
       "      <td>[WASHINGTON, (, Reuters, ), -, Transgender, pe...</td>\n",
       "    </tr>\n",
       "    <tr>\n",
       "      <th>2</th>\n",
       "      <td>politics</td>\n",
       "      <td>Senior U.S. Republican senator: 'Let Mr. Muell...</td>\n",
       "      <td>WASHINGTON (Reuters) - The special counsel inv...</td>\n",
       "      <td>December 31, 2017</td>\n",
       "      <td>[Senior, U.S., Republican, senator, :, 'Let, M...</td>\n",
       "      <td>False</td>\n",
       "      <td>[WASHINGTON, (, Reuters, ), -, The, special, c...</td>\n",
       "    </tr>\n",
       "    <tr>\n",
       "      <th>3</th>\n",
       "      <td>politics</td>\n",
       "      <td>FBI Russia probe helped by Australian diplomat...</td>\n",
       "      <td>WASHINGTON (Reuters) - Trump campaign adviser ...</td>\n",
       "      <td>December 30, 2017</td>\n",
       "      <td>[FBI, Russia, probe, helped, by, Australian, d...</td>\n",
       "      <td>False</td>\n",
       "      <td>[WASHINGTON, (, Reuters, ), -, Trump, campaign...</td>\n",
       "    </tr>\n",
       "    <tr>\n",
       "      <th>4</th>\n",
       "      <td>politics</td>\n",
       "      <td>Trump wants Postal Service to charge 'much mor...</td>\n",
       "      <td>SEATTLE/WASHINGTON (Reuters) - President Donal...</td>\n",
       "      <td>December 29, 2017</td>\n",
       "      <td>[Trump, wants, Postal, Service, to, charge, 'm...</td>\n",
       "      <td>False</td>\n",
       "      <td>[SEATTLE/WASHINGTON, (, Reuters, ), -, Preside...</td>\n",
       "    </tr>\n",
       "  </tbody>\n",
       "</table>\n",
       "</div>"
      ],
      "text/plain": [
       "    subject                                              title  \\\n",
       "0  politics  As U.S. budget fight looms, Republicans flip t...   \n",
       "1  politics  U.S. military to accept transgender recruits o...   \n",
       "2  politics  Senior U.S. Republican senator: 'Let Mr. Muell...   \n",
       "3  politics  FBI Russia probe helped by Australian diplomat...   \n",
       "4  politics  Trump wants Postal Service to charge 'much mor...   \n",
       "\n",
       "                                                text               date  \\\n",
       "0  WASHINGTON (Reuters) - The head of a conservat...  December 31, 2017   \n",
       "1  WASHINGTON (Reuters) - Transgender people will...  December 29, 2017   \n",
       "2  WASHINGTON (Reuters) - The special counsel inv...  December 31, 2017   \n",
       "3  WASHINGTON (Reuters) - Trump campaign adviser ...  December 30, 2017   \n",
       "4  SEATTLE/WASHINGTON (Reuters) - President Donal...  December 29, 2017   \n",
       "\n",
       "                                     title_tokenized  text_is_null  \\\n",
       "0  [As, U.S., budget, fight, looms, ,, Republican...         False   \n",
       "1  [U.S., military, to, accept, transgender, recr...         False   \n",
       "2  [Senior, U.S., Republican, senator, :, 'Let, M...         False   \n",
       "3  [FBI, Russia, probe, helped, by, Australian, d...         False   \n",
       "4  [Trump, wants, Postal, Service, to, charge, 'm...         False   \n",
       "\n",
       "                                      text_tokenized  \n",
       "0  [WASHINGTON, (, Reuters, ), -, The, head, of, ...  \n",
       "1  [WASHINGTON, (, Reuters, ), -, Transgender, pe...  \n",
       "2  [WASHINGTON, (, Reuters, ), -, The, special, c...  \n",
       "3  [WASHINGTON, (, Reuters, ), -, Trump, campaign...  \n",
       "4  [SEATTLE/WASHINGTON, (, Reuters, ), -, Preside...  "
      ]
     },
     "execution_count": 29,
     "metadata": {},
     "output_type": "execute_result"
    }
   ],
   "source": []
  },
  {
   "cell_type": "code",
   "execution_count": 35,
   "id": "3a8ca2c3",
   "metadata": {},
   "outputs": [],
   "source": [
    "isot_dataset['text_tokenized'] = isot_dataset.apply(lambda row: [word.lower() for word in row['text_tokenized']], axis = 1)"
   ]
  },
  {
   "cell_type": "code",
   "execution_count": 39,
   "id": "85a9f578",
   "metadata": {},
   "outputs": [],
   "source": [
    "isot_dataset['title_tokenized'] = isot_dataset.apply(lambda row: [word.lower() for word in row['title_tokenized']], axis = 1)"
   ]
  },
  {
   "cell_type": "code",
   "execution_count": 37,
   "id": "d355ec44",
   "metadata": {},
   "outputs": [
    {
     "name": "stderr",
     "output_type": "stream",
     "text": [
      "[nltk_data] Downloading package stopwords to\n",
      "[nltk_data]     /Users/anirudhsriram/nltk_data...\n",
      "[nltk_data]   Package stopwords is already up-to-date!\n"
     ]
    }
   ],
   "source": [
    "from nltk.corpus import stopwords\n",
    "nltk.download('stopwords')\n",
    "stopword_set = stopwords.words()\n",
    "isot_dataset['text_stop_words_removed'] = isot_dataset.apply(lambda row: [word for word in row['text_tokenized'] if not word in stopword_set], axis = 1)\n"
   ]
  },
  {
   "cell_type": "code",
   "execution_count": 40,
   "id": "44d67647",
   "metadata": {},
   "outputs": [],
   "source": [
    "isot_dataset['title_stop_words_removed'] = isot_dataset.apply(lambda row: [word for word in row['title_tokenized'] if not word in stopword_set], axis = 1)"
   ]
  },
  {
   "cell_type": "code",
   "execution_count": 38,
   "id": "d511a7ec",
   "metadata": {},
   "outputs": [
    {
     "data": {
      "text/plain": [
       "0        [washington, (, reuters, ), -, head, conservat...\n",
       "1        [washington, (, reuters, ), -, transgender, pe...\n",
       "2        [washington, (, reuters, ), -, special, counse...\n",
       "3        [washington, (, reuters, ), -, trump, campaign...\n",
       "4        [seattle/washington, (, reuters, ), -, preside...\n",
       "                               ...                        \n",
       "41663    [21st, century, wire, says, 21wire, reported, ...\n",
       "41664    [21st, century, wire, says, familiar, theme, ....\n",
       "41665    [patrick, henningsen, 21st, century, wireremem...\n",
       "41666    [21st, century, wire, says, jazeera, america, ...\n",
       "41667    [21st, century, wire, says, 21wire, predicted,...\n",
       "Name: text_stop_words_removed, Length: 40536, dtype: object"
      ]
     },
     "execution_count": 38,
     "metadata": {},
     "output_type": "execute_result"
    }
   ],
   "source": [
    "isot_dataset['text_stop_words_removed']"
   ]
  },
  {
   "cell_type": "code",
   "execution_count": 41,
   "id": "53dcaad2",
   "metadata": {},
   "outputs": [
    {
     "data": {
      "text/plain": [
       "0        [u.s., budget, fight, looms, ,, republicans, f...\n",
       "1        [u.s., military, accept, transgender, recruits...\n",
       "2        [senior, u.s., republican, senator, :, 'let, m...\n",
       "3        [fbi, russia, probe, helped, australian, diplo...\n",
       "4        [trump, wants, postal, service, charge, 'much,...\n",
       "                               ...                        \n",
       "41663    [mcpain, :, john, mccain, furious, iran, treat...\n",
       "41664    [justice, ?, yahoo, settles, e-mail, privacy, ...\n",
       "41665    [sunnistan, :, us, allied, ‘, safe, zone, ’, p...\n",
       "41666    [blow, $, 700, million, :, jazeera, america, f...\n",
       "41667    [10, u.s., navy, sailors, held, iranian, milit...\n",
       "Name: title_stop_words_removed, Length: 40536, dtype: object"
      ]
     },
     "execution_count": 41,
     "metadata": {},
     "output_type": "execute_result"
    }
   ],
   "source": [
    "isot_dataset['title_stop_words_removed']"
   ]
  },
  {
   "cell_type": "code",
   "execution_count": 31,
   "id": "497a99bf",
   "metadata": {},
   "outputs": [],
   "source": []
  },
  {
   "cell_type": "code",
   "execution_count": 32,
   "id": "576eb124",
   "metadata": {},
   "outputs": [
    {
     "name": "stdout",
     "output_type": "stream",
     "text": [
      "['i', 'me', 'my', 'myself', 'we', 'our', 'ours', 'ourselves', 'you', \"you're\", \"you've\", \"you'll\", \"you'd\", 'your', 'yours', 'yourself', 'yourselves', 'he', 'him', 'his', 'himself', 'she', \"she's\", 'her', 'hers', 'herself', 'it', \"it's\", 'its', 'itself', 'they', 'them', 'their', 'theirs', 'themselves', 'what', 'which', 'who', 'whom', 'this', 'that', \"that'll\", 'these', 'those', 'am', 'is', 'are', 'was', 'were', 'be', 'been', 'being', 'have', 'has', 'had', 'having', 'do', 'does', 'did', 'doing', 'a', 'an', 'the', 'and', 'but', 'if', 'or', 'because', 'as', 'until', 'while', 'of', 'at', 'by', 'for', 'with', 'about', 'against', 'between', 'into', 'through', 'during', 'before', 'after', 'above', 'below', 'to', 'from', 'up', 'down', 'in', 'out', 'on', 'off', 'over', 'under', 'again', 'further', 'then', 'once', 'here', 'there', 'when', 'where', 'why', 'how', 'all', 'any', 'both', 'each', 'few', 'more', 'most', 'other', 'some', 'such', 'no', 'nor', 'not', 'only', 'own', 'same', 'so', 'than', 'too', 'very', 's', 't', 'can', 'will', 'just', 'don', \"don't\", 'should', \"should've\", 'now', 'd', 'll', 'm', 'o', 're', 've', 'y', 'ain', 'aren', \"aren't\", 'couldn', \"couldn't\", 'didn', \"didn't\", 'doesn', \"doesn't\", 'hadn', \"hadn't\", 'hasn', \"hasn't\", 'haven', \"haven't\", 'isn', \"isn't\", 'ma', 'mightn', \"mightn't\", 'mustn', \"mustn't\", 'needn', \"needn't\", 'shan', \"shan't\", 'shouldn', \"shouldn't\", 'wasn', \"wasn't\", 'weren', \"weren't\", 'won', \"won't\", 'wouldn', \"wouldn't\"]\n"
     ]
    }
   ],
   "source": []
  },
  {
   "cell_type": "code",
   "execution_count": null,
   "id": "d129e780",
   "metadata": {},
   "outputs": [],
   "source": []
  }
 ],
 "metadata": {
  "kernelspec": {
   "display_name": "Python 3 (ipykernel)",
   "language": "python",
   "name": "python3"
  },
  "language_info": {
   "codemirror_mode": {
    "name": "ipython",
    "version": 3
   },
   "file_extension": ".py",
   "mimetype": "text/x-python",
   "name": "python",
   "nbconvert_exporter": "python",
   "pygments_lexer": "ipython3",
   "version": "3.8.2"
  }
 },
 "nbformat": 4,
 "nbformat_minor": 5
}
