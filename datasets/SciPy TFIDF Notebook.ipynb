{
 "cells": [
  {
   "cell_type": "code",
   "execution_count": 1,
   "metadata": {},
   "outputs": [],
   "source": [
    "import pandas as pd"
   ]
  },
  {
   "cell_type": "code",
   "execution_count": 2,
   "metadata": {},
   "outputs": [],
   "source": [
    "recombined_isot = pd.read_csv('./recombined_tokenized_stopword_removed.csv/recombined_tokenized_stopword_removed.csv')"
   ]
  },
  {
   "cell_type": "code",
   "execution_count": 3,
   "metadata": {},
   "outputs": [],
   "source": [
    "from sklearn.feature_extraction.text import TfidfVectorizer\n",
    "v = TfidfVectorizer()"
   ]
  },
  {
   "cell_type": "code",
   "execution_count": 4,
   "metadata": {},
   "outputs": [
    {
     "data": {
      "text/html": [
       "<div>\n",
       "<style scoped>\n",
       "    .dataframe tbody tr th:only-of-type {\n",
       "        vertical-align: middle;\n",
       "    }\n",
       "\n",
       "    .dataframe tbody tr th {\n",
       "        vertical-align: top;\n",
       "    }\n",
       "\n",
       "    .dataframe thead th {\n",
       "        text-align: right;\n",
       "    }\n",
       "</style>\n",
       "<table border=\"1\" class=\"dataframe\">\n",
       "  <thead>\n",
       "    <tr style=\"text-align: right;\">\n",
       "      <th></th>\n",
       "      <th>Unnamed: 0</th>\n",
       "      <th>subject</th>\n",
       "      <th>title</th>\n",
       "      <th>text</th>\n",
       "      <th>date</th>\n",
       "      <th>title_tokenized</th>\n",
       "      <th>text_tokenized</th>\n",
       "      <th>text_stop_words_removed</th>\n",
       "      <th>title_stop_words_removed</th>\n",
       "      <th>text_recombined</th>\n",
       "      <th>title_recombined</th>\n",
       "    </tr>\n",
       "  </thead>\n",
       "  <tbody>\n",
       "    <tr>\n",
       "      <th>0</th>\n",
       "      <td>0</td>\n",
       "      <td>politics</td>\n",
       "      <td>As U.S. budget fight looms, Republicans flip t...</td>\n",
       "      <td>WASHINGTON (Reuters) - The head of a conservat...</td>\n",
       "      <td>December 31, 2017</td>\n",
       "      <td>['a', 'u.s.', 'budget', 'fight', 'loom', ',', ...</td>\n",
       "      <td>['washington', '(', 'reuters', ')', '-', 'the'...</td>\n",
       "      <td>['washington', 'reuters', 'head', 'conservativ...</td>\n",
       "      <td>['u.s.', 'budget', 'fight', 'loom', 'republica...</td>\n",
       "      <td>washington reuters head conservative republica...</td>\n",
       "      <td>u.s. budget fight loom republican flip fiscal ...</td>\n",
       "    </tr>\n",
       "    <tr>\n",
       "      <th>1</th>\n",
       "      <td>1</td>\n",
       "      <td>politics</td>\n",
       "      <td>U.S. military to accept transgender recruits o...</td>\n",
       "      <td>WASHINGTON (Reuters) - Transgender people will...</td>\n",
       "      <td>December 29, 2017</td>\n",
       "      <td>['u.s.', 'military', 'to', 'accept', 'transgen...</td>\n",
       "      <td>['washington', '(', 'reuters', ')', '-', 'tran...</td>\n",
       "      <td>['washington', 'reuters', 'transgender', 'peop...</td>\n",
       "      <td>['u.s.', 'military', 'accept', 'transgender', ...</td>\n",
       "      <td>washington reuters transgender people allowed ...</td>\n",
       "      <td>u.s. military accept transgender recruit monda...</td>\n",
       "    </tr>\n",
       "    <tr>\n",
       "      <th>2</th>\n",
       "      <td>2</td>\n",
       "      <td>politics</td>\n",
       "      <td>Senior U.S. Republican senator: 'Let Mr. Muell...</td>\n",
       "      <td>WASHINGTON (Reuters) - The special counsel inv...</td>\n",
       "      <td>December 31, 2017</td>\n",
       "      <td>['senior', 'u.s.', 'republican', 'senator', ':...</td>\n",
       "      <td>['washington', '(', 'reuters', ')', '-', 'the'...</td>\n",
       "      <td>['washington', 'reuters', 'special', 'counsel'...</td>\n",
       "      <td>['senior', 'u.s.', 'republican', 'senator', \"'...</td>\n",
       "      <td>washington reuters special counsel investigati...</td>\n",
       "      <td>senior u.s. republican senator 'let mr. muelle...</td>\n",
       "    </tr>\n",
       "    <tr>\n",
       "      <th>3</th>\n",
       "      <td>3</td>\n",
       "      <td>politics</td>\n",
       "      <td>FBI Russia probe helped by Australian diplomat...</td>\n",
       "      <td>WASHINGTON (Reuters) - Trump campaign adviser ...</td>\n",
       "      <td>December 30, 2017</td>\n",
       "      <td>['fbi', 'russia', 'probe', 'helped', 'by', 'au...</td>\n",
       "      <td>['washington', '(', 'reuters', ')', '-', 'trum...</td>\n",
       "      <td>['washington', 'reuters', 'trump', 'campaign',...</td>\n",
       "      <td>['fbi', 'russia', 'probe', 'helped', 'australi...</td>\n",
       "      <td>washington reuters trump campaign adviser geor...</td>\n",
       "      <td>fbi russia probe helped australian diplomat ti...</td>\n",
       "    </tr>\n",
       "    <tr>\n",
       "      <th>4</th>\n",
       "      <td>4</td>\n",
       "      <td>politics</td>\n",
       "      <td>Trump wants Postal Service to charge 'much mor...</td>\n",
       "      <td>SEATTLE/WASHINGTON (Reuters) - President Donal...</td>\n",
       "      <td>December 29, 2017</td>\n",
       "      <td>['trump', 'want', 'postal', 'service', 'to', '...</td>\n",
       "      <td>['seattle/washington', '(', 'reuters', ')', '-...</td>\n",
       "      <td>['seattle/washington', 'reuters', 'president',...</td>\n",
       "      <td>['trump', 'want', 'postal', 'service', 'charge...</td>\n",
       "      <td>seattle/washington reuters president donald tr...</td>\n",
       "      <td>trump want postal service charge 'much amazon ...</td>\n",
       "    </tr>\n",
       "  </tbody>\n",
       "</table>\n",
       "</div>"
      ],
      "text/plain": [
       "   Unnamed: 0   subject                                              title  \\\n",
       "0           0  politics  As U.S. budget fight looms, Republicans flip t...   \n",
       "1           1  politics  U.S. military to accept transgender recruits o...   \n",
       "2           2  politics  Senior U.S. Republican senator: 'Let Mr. Muell...   \n",
       "3           3  politics  FBI Russia probe helped by Australian diplomat...   \n",
       "4           4  politics  Trump wants Postal Service to charge 'much mor...   \n",
       "\n",
       "                                                text               date  \\\n",
       "0  WASHINGTON (Reuters) - The head of a conservat...  December 31, 2017   \n",
       "1  WASHINGTON (Reuters) - Transgender people will...  December 29, 2017   \n",
       "2  WASHINGTON (Reuters) - The special counsel inv...  December 31, 2017   \n",
       "3  WASHINGTON (Reuters) - Trump campaign adviser ...  December 30, 2017   \n",
       "4  SEATTLE/WASHINGTON (Reuters) - President Donal...  December 29, 2017   \n",
       "\n",
       "                                     title_tokenized  \\\n",
       "0  ['a', 'u.s.', 'budget', 'fight', 'loom', ',', ...   \n",
       "1  ['u.s.', 'military', 'to', 'accept', 'transgen...   \n",
       "2  ['senior', 'u.s.', 'republican', 'senator', ':...   \n",
       "3  ['fbi', 'russia', 'probe', 'helped', 'by', 'au...   \n",
       "4  ['trump', 'want', 'postal', 'service', 'to', '...   \n",
       "\n",
       "                                      text_tokenized  \\\n",
       "0  ['washington', '(', 'reuters', ')', '-', 'the'...   \n",
       "1  ['washington', '(', 'reuters', ')', '-', 'tran...   \n",
       "2  ['washington', '(', 'reuters', ')', '-', 'the'...   \n",
       "3  ['washington', '(', 'reuters', ')', '-', 'trum...   \n",
       "4  ['seattle/washington', '(', 'reuters', ')', '-...   \n",
       "\n",
       "                             text_stop_words_removed  \\\n",
       "0  ['washington', 'reuters', 'head', 'conservativ...   \n",
       "1  ['washington', 'reuters', 'transgender', 'peop...   \n",
       "2  ['washington', 'reuters', 'special', 'counsel'...   \n",
       "3  ['washington', 'reuters', 'trump', 'campaign',...   \n",
       "4  ['seattle/washington', 'reuters', 'president',...   \n",
       "\n",
       "                            title_stop_words_removed  \\\n",
       "0  ['u.s.', 'budget', 'fight', 'loom', 'republica...   \n",
       "1  ['u.s.', 'military', 'accept', 'transgender', ...   \n",
       "2  ['senior', 'u.s.', 'republican', 'senator', \"'...   \n",
       "3  ['fbi', 'russia', 'probe', 'helped', 'australi...   \n",
       "4  ['trump', 'want', 'postal', 'service', 'charge...   \n",
       "\n",
       "                                     text_recombined  \\\n",
       "0  washington reuters head conservative republica...   \n",
       "1  washington reuters transgender people allowed ...   \n",
       "2  washington reuters special counsel investigati...   \n",
       "3  washington reuters trump campaign adviser geor...   \n",
       "4  seattle/washington reuters president donald tr...   \n",
       "\n",
       "                                    title_recombined  \n",
       "0  u.s. budget fight loom republican flip fiscal ...  \n",
       "1  u.s. military accept transgender recruit monda...  \n",
       "2  senior u.s. republican senator 'let mr. muelle...  \n",
       "3  fbi russia probe helped australian diplomat ti...  \n",
       "4  trump want postal service charge 'much amazon ...  "
      ]
     },
     "execution_count": 4,
     "metadata": {},
     "output_type": "execute_result"
    }
   ],
   "source": [
    "recombined_isot.head()"
   ]
  },
  {
   "cell_type": "code",
   "execution_count": 5,
   "metadata": {},
   "outputs": [],
   "source": [
    "sample_isot = recombined_isot.head()"
   ]
  },
  {
   "cell_type": "code",
   "execution_count": 7,
   "metadata": {},
   "outputs": [],
   "source": [
    "x_sample = v.fit_transform(sample_isot['title_recombined'])"
   ]
  },
  {
   "cell_type": "code",
   "execution_count": 15,
   "metadata": {},
   "outputs": [],
   "source": [
    "x_sample_tfidf = pd.DataFrame(x_sample.toarray(), columns=v.get_feature_names())"
   ]
  },
  {
   "cell_type": "code",
   "execution_count": 16,
   "metadata": {},
   "outputs": [
    {
     "data": {
      "text/html": [
       "<div>\n",
       "<style scoped>\n",
       "    .dataframe tbody tr th:only-of-type {\n",
       "        vertical-align: middle;\n",
       "    }\n",
       "\n",
       "    .dataframe tbody tr th {\n",
       "        vertical-align: top;\n",
       "    }\n",
       "\n",
       "    .dataframe thead th {\n",
       "        text-align: right;\n",
       "    }\n",
       "</style>\n",
       "<table border=\"1\" class=\"dataframe\">\n",
       "  <thead>\n",
       "    <tr style=\"text-align: right;\">\n",
       "      <th></th>\n",
       "      <th>accept</th>\n",
       "      <th>amazon</th>\n",
       "      <th>australian</th>\n",
       "      <th>budget</th>\n",
       "      <th>charge</th>\n",
       "      <th>diplomat</th>\n",
       "      <th>fbi</th>\n",
       "      <th>fight</th>\n",
       "      <th>fiscal</th>\n",
       "      <th>flip</th>\n",
       "      <th>...</th>\n",
       "      <th>russia</th>\n",
       "      <th>script</th>\n",
       "      <th>senator</th>\n",
       "      <th>senior</th>\n",
       "      <th>service</th>\n",
       "      <th>shipment</th>\n",
       "      <th>tip</th>\n",
       "      <th>transgender</th>\n",
       "      <th>trump</th>\n",
       "      <th>want</th>\n",
       "    </tr>\n",
       "  </thead>\n",
       "  <tbody>\n",
       "    <tr>\n",
       "      <th>0</th>\n",
       "      <td>0.000000</td>\n",
       "      <td>0.000000</td>\n",
       "      <td>0.000000</td>\n",
       "      <td>0.387757</td>\n",
       "      <td>0.000000</td>\n",
       "      <td>0.000000</td>\n",
       "      <td>0.000000</td>\n",
       "      <td>0.387757</td>\n",
       "      <td>0.387757</td>\n",
       "      <td>0.387757</td>\n",
       "      <td>...</td>\n",
       "      <td>0.000000</td>\n",
       "      <td>0.387757</td>\n",
       "      <td>0.000000</td>\n",
       "      <td>0.000000</td>\n",
       "      <td>0.000000</td>\n",
       "      <td>0.000000</td>\n",
       "      <td>0.000000</td>\n",
       "      <td>0.000000</td>\n",
       "      <td>0.000000</td>\n",
       "      <td>0.000000</td>\n",
       "    </tr>\n",
       "    <tr>\n",
       "      <th>1</th>\n",
       "      <td>0.408248</td>\n",
       "      <td>0.000000</td>\n",
       "      <td>0.000000</td>\n",
       "      <td>0.000000</td>\n",
       "      <td>0.000000</td>\n",
       "      <td>0.000000</td>\n",
       "      <td>0.000000</td>\n",
       "      <td>0.000000</td>\n",
       "      <td>0.000000</td>\n",
       "      <td>0.000000</td>\n",
       "      <td>...</td>\n",
       "      <td>0.000000</td>\n",
       "      <td>0.000000</td>\n",
       "      <td>0.000000</td>\n",
       "      <td>0.000000</td>\n",
       "      <td>0.000000</td>\n",
       "      <td>0.000000</td>\n",
       "      <td>0.000000</td>\n",
       "      <td>0.408248</td>\n",
       "      <td>0.000000</td>\n",
       "      <td>0.000000</td>\n",
       "    </tr>\n",
       "    <tr>\n",
       "      <th>2</th>\n",
       "      <td>0.000000</td>\n",
       "      <td>0.000000</td>\n",
       "      <td>0.000000</td>\n",
       "      <td>0.000000</td>\n",
       "      <td>0.000000</td>\n",
       "      <td>0.000000</td>\n",
       "      <td>0.000000</td>\n",
       "      <td>0.000000</td>\n",
       "      <td>0.000000</td>\n",
       "      <td>0.000000</td>\n",
       "      <td>...</td>\n",
       "      <td>0.000000</td>\n",
       "      <td>0.000000</td>\n",
       "      <td>0.387757</td>\n",
       "      <td>0.387757</td>\n",
       "      <td>0.000000</td>\n",
       "      <td>0.000000</td>\n",
       "      <td>0.000000</td>\n",
       "      <td>0.000000</td>\n",
       "      <td>0.000000</td>\n",
       "      <td>0.000000</td>\n",
       "    </tr>\n",
       "    <tr>\n",
       "      <th>3</th>\n",
       "      <td>0.000000</td>\n",
       "      <td>0.000000</td>\n",
       "      <td>0.333333</td>\n",
       "      <td>0.000000</td>\n",
       "      <td>0.000000</td>\n",
       "      <td>0.333333</td>\n",
       "      <td>0.333333</td>\n",
       "      <td>0.000000</td>\n",
       "      <td>0.000000</td>\n",
       "      <td>0.000000</td>\n",
       "      <td>...</td>\n",
       "      <td>0.333333</td>\n",
       "      <td>0.000000</td>\n",
       "      <td>0.000000</td>\n",
       "      <td>0.000000</td>\n",
       "      <td>0.000000</td>\n",
       "      <td>0.000000</td>\n",
       "      <td>0.333333</td>\n",
       "      <td>0.000000</td>\n",
       "      <td>0.000000</td>\n",
       "      <td>0.000000</td>\n",
       "    </tr>\n",
       "    <tr>\n",
       "      <th>4</th>\n",
       "      <td>0.000000</td>\n",
       "      <td>0.353553</td>\n",
       "      <td>0.000000</td>\n",
       "      <td>0.000000</td>\n",
       "      <td>0.353553</td>\n",
       "      <td>0.000000</td>\n",
       "      <td>0.000000</td>\n",
       "      <td>0.000000</td>\n",
       "      <td>0.000000</td>\n",
       "      <td>0.000000</td>\n",
       "      <td>...</td>\n",
       "      <td>0.000000</td>\n",
       "      <td>0.000000</td>\n",
       "      <td>0.000000</td>\n",
       "      <td>0.000000</td>\n",
       "      <td>0.353553</td>\n",
       "      <td>0.353553</td>\n",
       "      <td>0.000000</td>\n",
       "      <td>0.000000</td>\n",
       "      <td>0.353553</td>\n",
       "      <td>0.353553</td>\n",
       "    </tr>\n",
       "  </tbody>\n",
       "</table>\n",
       "<p>5 rows × 36 columns</p>\n",
       "</div>"
      ],
      "text/plain": [
       "     accept    amazon  australian    budget    charge  diplomat       fbi  \\\n",
       "0  0.000000  0.000000    0.000000  0.387757  0.000000  0.000000  0.000000   \n",
       "1  0.408248  0.000000    0.000000  0.000000  0.000000  0.000000  0.000000   \n",
       "2  0.000000  0.000000    0.000000  0.000000  0.000000  0.000000  0.000000   \n",
       "3  0.000000  0.000000    0.333333  0.000000  0.000000  0.333333  0.333333   \n",
       "4  0.000000  0.353553    0.000000  0.000000  0.353553  0.000000  0.000000   \n",
       "\n",
       "      fight    fiscal      flip  ...    russia    script   senator    senior  \\\n",
       "0  0.387757  0.387757  0.387757  ...  0.000000  0.387757  0.000000  0.000000   \n",
       "1  0.000000  0.000000  0.000000  ...  0.000000  0.000000  0.000000  0.000000   \n",
       "2  0.000000  0.000000  0.000000  ...  0.000000  0.000000  0.387757  0.387757   \n",
       "3  0.000000  0.000000  0.000000  ...  0.333333  0.000000  0.000000  0.000000   \n",
       "4  0.000000  0.000000  0.000000  ...  0.000000  0.000000  0.000000  0.000000   \n",
       "\n",
       "    service  shipment       tip  transgender     trump      want  \n",
       "0  0.000000  0.000000  0.000000     0.000000  0.000000  0.000000  \n",
       "1  0.000000  0.000000  0.000000     0.408248  0.000000  0.000000  \n",
       "2  0.000000  0.000000  0.000000     0.000000  0.000000  0.000000  \n",
       "3  0.000000  0.000000  0.333333     0.000000  0.000000  0.000000  \n",
       "4  0.353553  0.353553  0.000000     0.000000  0.353553  0.353553  \n",
       "\n",
       "[5 rows x 36 columns]"
      ]
     },
     "execution_count": 16,
     "metadata": {},
     "output_type": "execute_result"
    }
   ],
   "source": [
    "x_sample_tfidf"
   ]
  },
  {
   "cell_type": "code",
   "execution_count": 17,
   "metadata": {},
   "outputs": [],
   "source": [
    "v2 = TfidfVectorizer()"
   ]
  },
  {
   "cell_type": "code",
   "execution_count": 18,
   "metadata": {},
   "outputs": [],
   "source": [
    "x = v.fit_transform(recombined_isot['title_recombined'])"
   ]
  },
  {
   "cell_type": "code",
   "execution_count": 22,
   "metadata": {},
   "outputs": [],
   "source": [
    "import pickle"
   ]
  },
  {
   "cell_type": "code",
   "execution_count": 24,
   "metadata": {},
   "outputs": [],
   "source": [
    "f = open('x_tfidf.pkl', 'wb')\n",
    "pickle.dump(x, f)"
   ]
  },
  {
   "cell_type": "code",
   "execution_count": 31,
   "metadata": {},
   "outputs": [
    {
     "data": {
      "text/plain": [
       "<40536x17699 sparse matrix of type '<class 'numpy.float64'>'\n",
       "\twith 373728 stored elements in Compressed Sparse Row format>"
      ]
     },
     "execution_count": 31,
     "metadata": {},
     "output_type": "execute_result"
    }
   ],
   "source": [
    "x"
   ]
  },
  {
   "cell_type": "code",
   "execution_count": 25,
   "metadata": {},
   "outputs": [],
   "source": [
    "f.close()"
   ]
  },
  {
   "cell_type": "code",
   "execution_count": 28,
   "metadata": {},
   "outputs": [],
   "source": [
    "r = open('x_tfidf.pkl', 'rb')   # 'r' for reading; can be omitted\n",
    "mydict = pickle.load(r)         # load file content as mydict\n",
    "r.close()"
   ]
  },
  {
   "cell_type": "code",
   "execution_count": 30,
   "metadata": {},
   "outputs": [
    {
     "data": {
      "text/plain": [
       "<40536x17699 sparse matrix of type '<class 'numpy.float64'>'\n",
       "\twith 373728 stored elements in Compressed Sparse Row format>"
      ]
     },
     "execution_count": 30,
     "metadata": {},
     "output_type": "execute_result"
    }
   ],
   "source": [
    "mydict"
   ]
  },
  {
   "cell_type": "code",
   "execution_count": null,
   "metadata": {},
   "outputs": [],
   "source": []
  }
 ],
 "metadata": {
  "kernelspec": {
   "display_name": "Python 3 (ipykernel)",
   "language": "python",
   "name": "python3"
  },
  "language_info": {
   "codemirror_mode": {
    "name": "ipython",
    "version": 3
   },
   "file_extension": ".py",
   "mimetype": "text/x-python",
   "name": "python",
   "nbconvert_exporter": "python",
   "pygments_lexer": "ipython3",
   "version": "3.8.2"
  }
 },
 "nbformat": 4,
 "nbformat_minor": 4
}
